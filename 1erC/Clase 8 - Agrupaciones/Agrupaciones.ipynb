{
 "cells": [
  {
   "cell_type": "markdown",
   "id": "inclusive-raleigh",
   "metadata": {
    "id": "neither-theorem"
   },
   "source": [
    "#### Agrupaciones y gráficos\n",
    "\n",
    "Hoy aprenderemos realizar agrupaciones con métodos de la librería de pandas.\n",
    "\n",
    "Retomaremos el dataset utilizado las clases anteriores sobre el Arbolado de la Ciudad de Buenos Aires"
   ]
  },
  {
   "cell_type": "code",
   "execution_count": null,
   "id": "olympic-daughter",
   "metadata": {
    "id": "collaborative-order"
   },
   "outputs": [],
   "source": [
    "#importamos las librerias que utilizaremos\n",
    "import pandas as pd\n",
    "import matplotlib.pyplot as plt\n",
    "import seaborn as sns"
   ]
  },
  {
   "cell_type": "code",
   "execution_count": null,
   "id": "headed-repeat",
   "metadata": {
    "id": "collaborative-order"
   },
   "outputs": [],
   "source": [
    "data = pd.read_csv(\"https://cdn.buenosaires.gob.ar/datosabiertos/datasets/arbolado-publico-lineal/arbolado-publico-lineal-2017-2018.csv\")\n",
    "data.head()"
   ]
  },
  {
   "cell_type": "markdown",
   "id": "bound-aviation",
   "metadata": {
    "id": "asian-syria"
   },
   "source": [
    "#### Agrupación\n",
    "\n",
    "El método _groupby_agrupa todas las filas que tengan igual valor. [Documentacion groupby](https://pandas.pydata.org/docs/reference/api/pandas.DataFrame.groupby.html?highlight=groupby#pandas.DataFrame.groupby)\n",
    "\n",
    "\n",
    "Podemos describir las operaciones sobre grupos con el término *split-apply-combine*\n",
    "\n",
    "En la primera etapa del proceso, los datos en un objeto `pandas` (una instancia de `Series` o de `DataFrame`) se dividen en grupos (*split*) en base a una o más keys que definimos. Esta división se lleva a cabo por filas (axis = 0) o por columnas (axis = 1).\n",
    "\n",
    "Como segunda etapa, aplicamos una función a cada uno de los grupos (*apply*) dando como resultado un nuevo valor por grupo.\n",
    "\n",
    "Como último paso, los resultados de la aplicación de la función en cada uno de los grupos se combina en un objeto resultado (*combine*).\n",
    "\n"
   ]
  },
  {
   "cell_type": "code",
   "execution_count": null,
   "id": "spoken-blogger",
   "metadata": {
    "id": "worst-blocking"
   },
   "outputs": [],
   "source": [
    "#agrupamos la tabla por comuna\n",
    "data_agrupada = data.groupby(\"comuna\")\n",
    "data_agrupada\n",
    "\n",
    "#Acá se crea un objeto agrupado por encuentro pero aún o hemos realizado ninguna operación para poner datos\n",
    "#Sería como una tabla que solamente tiene un índice y falta indicar los datos"
   ]
  },
  {
   "cell_type": "code",
   "execution_count": null,
   "id": "processed-rebel",
   "metadata": {
    "id": "informative-elements"
   },
   "outputs": [],
   "source": [
    "#cuántos valores de cada año\n",
    "data_agrupada.size()"
   ]
  },
  {
   "cell_type": "code",
   "execution_count": null,
   "id": "danish-heavy",
   "metadata": {
    "id": "varying-exhibition"
   },
   "outputs": [],
   "source": [
    "#creo un DataFrame de la data agrupada por año, ver que tiene un índice y una columna\n",
    "data_arboles_comuna =data_agrupada[\"comuna\"].count()\n",
    "print(data_arboles_comuna.shape)\n",
    "data_arboles_comuna"
   ]
  },
  {
   "cell_type": "code",
   "execution_count": null,
   "id": "valuable-broadcasting",
   "metadata": {
    "id": "absolute-bleeding"
   },
   "outputs": [],
   "source": [
    "# sobre esta agrupación podemos realizar distintos operaciones, por ejemplo hacer el promedio de la altura de los arbole (por agrupación)\n",
    "data_agrupada[\"altura_arbol\"].mean()"
   ]
  },
  {
   "cell_type": "code",
   "execution_count": null,
   "id": "bulgarian-tournament",
   "metadata": {
    "id": "ssHYaKcvHr2a"
   },
   "outputs": [],
   "source": [
    "# Vamos a agrupar los arboles por nombre_cientifico, primero observamos cuantos hay de cada tipo\n",
    "\n",
    "data[\"nombre_cientifico\"].value_counts()"
   ]
  },
  {
   "cell_type": "code",
   "execution_count": null,
   "id": "institutional-hearing",
   "metadata": {
    "id": "jD2EQ5InIK1G"
   },
   "outputs": [],
   "source": [
    "# realizamos la agrupación utilizando el método groupby\n",
    "\n",
    "data_nombre_cientifico = data.groupby(\"nombre_cientifico\")\n",
    "data_nombre_cientifico\n",
    "\n",
    "# ¿Cuántas filas debería tener la agrupación? Observar el value_counts()\n"
   ]
  },
  {
   "cell_type": "code",
   "execution_count": null,
   "id": "hundred-drunk",
   "metadata": {
    "id": "3OujO2S4I6VZ"
   },
   "outputs": [],
   "source": [
    "# Hacer una operación: el arbol más alto de cada tipo\n",
    "\n",
    "data_nombre_cientifico[\"altura_arbol\"].max().sort_values(ascending=False)"
   ]
  },
  {
   "cell_type": "code",
   "execution_count": null,
   "id": "downtown-tourist",
   "metadata": {
    "id": "7Y1V55y5IK_-"
   },
   "outputs": [],
   "source": [
    "# Hacer una operación: promedio altura_arbol \n",
    "\n",
    "nombre_cientifico_promedio_altura = data_nombre_cientifico[\"altura_arbol\"].mean().sort_values(ascending=False)[:15]"
   ]
  },
  {
   "cell_type": "markdown",
   "id": "super-drunk",
   "metadata": {},
   "source": [
    "Podemos realizar un gráfico con esta información, en este caso realizaremos un scatterplot pero solo seleccionaremos los 15 más altos para que se visualice correctamente"
   ]
  },
  {
   "cell_type": "code",
   "execution_count": null,
   "id": "fancy-bishop",
   "metadata": {},
   "outputs": [],
   "source": [
    "sns.scatterplot(x=nombre_cientifico_promedio_altura.index, y= nombre_cientifico_promedio_altura)"
   ]
  },
  {
   "cell_type": "code",
   "execution_count": null,
   "id": "south-farmer",
   "metadata": {},
   "outputs": [],
   "source": [
    "# Podemos girar los ejes para que se vean los nombres\n",
    "\n",
    "sns.scatterplot(x=nombre_cientifico_promedio_altura.index, y= nombre_cientifico_promedio_altura)\n",
    "plt.xticks(rotation=50)"
   ]
  },
  {
   "cell_type": "code",
   "execution_count": null,
   "id": "subtle-magazine",
   "metadata": {},
   "outputs": [],
   "source": [
    "# Debemos agrandar el gráfico para que se visualice mejor y podemos cambiarle la forma y el tamaño a los marcadores con los parametros \n",
    "\n",
    "plt.figure(figsize=(10, 5))\n",
    "sns.scatterplot(x=nombre_cientifico_promedio_altura.index, y= nombre_cientifico_promedio_altura, s=100,marker=\"P\" )\n",
    "plt.xticks(rotation=45)"
   ]
  },
  {
   "cell_type": "markdown",
   "id": "appointed-excuse",
   "metadata": {},
   "source": [
    "También podemos generar una tabla más compleja agrupando por comuna y por nombre cientifico para ver cuántos tipos de arboles hay por cada columna\n",
    "\n",
    "En este caso vamos a realizar una agrupación por comuna y vamos a usar el método [nunique](https://pandas.pydata.org/docs/reference/api/pandas.DataFrame.nunique.html) que muestra la cantidad de valores unicos (valores distintos)"
   ]
  },
  {
   "cell_type": "code",
   "execution_count": null,
   "id": "excessive-camel",
   "metadata": {},
   "outputs": [],
   "source": [
    "tipo_por_comuna = data.groupby(\"comuna\")[\"nombre_cientifico\"].nunique()\n",
    "tipo_por_comuna"
   ]
  },
  {
   "cell_type": "markdown",
   "id": "acute-malta",
   "metadata": {},
   "source": [
    "Teniendo esta agrupación podemos realizar un gráfico con esta información, por ejemplo un [barplot](https://seaborn.pydata.org/generated/seaborn.barplot.html)"
   ]
  },
  {
   "cell_type": "code",
   "execution_count": null,
   "id": "former-circulation",
   "metadata": {},
   "outputs": [],
   "source": [
    "sns.barplot(x=tipo_por_comuna.index, y=tipo_por_comuna)"
   ]
  },
  {
   "cell_type": "markdown",
   "id": "geographic-massachusetts",
   "metadata": {},
   "source": [
    "Podemos agregarle etiquetas a los ejes de este gráfico este gráfico utilizando los argumentos \"color\", [palette](https://seaborn.pydata.org/generated/seaborn.color_palette.html#seaborn.color_palette) y  \"saturation\". Se pueden ver los colores y paletas en la [documentación de matplotlib](https://matplotlib.org/3.1.0/tutorials/colors/colormaps.html)"
   ]
  },
  {
   "cell_type": "code",
   "execution_count": null,
   "id": "copyrighted-parcel",
   "metadata": {},
   "outputs": [],
   "source": [
    "sns.barplot(x=tipo_por_comuna.index, y=tipo_por_comuna, palette=\"deep\")"
   ]
  },
  {
   "cell_type": "code",
   "execution_count": null,
   "id": "structural-means",
   "metadata": {},
   "outputs": [],
   "source": [
    "sns.barplot(x=tipo_por_comuna.index, y=tipo_por_comuna, palette=\"Greens\")"
   ]
  },
  {
   "cell_type": "markdown",
   "id": "outstanding-antibody",
   "metadata": {},
   "source": [
    "Podemos cambiar las etiquetas y colocar nombre al gráfico"
   ]
  },
  {
   "cell_type": "code",
   "execution_count": null,
   "id": "architectural-herald",
   "metadata": {},
   "outputs": [],
   "source": [
    "sns.barplot(x=tipo_por_comuna.index, y=tipo_por_comuna, color = \"g\", saturation=0.9)\n",
    "plt.title(\"Cantidad de tipos de arbol por comuna\")\n",
    "plt.xlabel(\"Comuna\")\n",
    "plt.ylabel(\"Cantidad de tipos de arbol\")"
   ]
  }
 ],
 "metadata": {
  "colab": {
   "collapsed_sections": [],
   "name": "Pandas: Filtrar y agrupar.ipynb",
   "provenance": []
  },
  "kernelspec": {
   "display_name": "Python 3",
   "language": "python",
   "name": "python3"
  },
  "language_info": {
   "codemirror_mode": {
    "name": "ipython",
    "version": 3
   },
   "file_extension": ".py",
   "mimetype": "text/x-python",
   "name": "python",
   "nbconvert_exporter": "python",
   "pygments_lexer": "ipython3",
   "version": "3.7.10"
  }
 },
 "nbformat": 4,
 "nbformat_minor": 5
}
