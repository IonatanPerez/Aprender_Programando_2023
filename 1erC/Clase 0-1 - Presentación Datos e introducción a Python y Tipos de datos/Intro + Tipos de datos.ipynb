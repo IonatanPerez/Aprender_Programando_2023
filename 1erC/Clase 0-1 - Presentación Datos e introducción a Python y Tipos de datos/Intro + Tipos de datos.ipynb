{
 "cells": [
  {
   "cell_type": "markdown",
   "metadata": {
    "id": "7wwIPx27BfIW"
   },
   "source": [
    "# Introducción a Google Colaboratory (Colab)\n",
    "\n"
   ]
  },
  {
   "cell_type": "markdown",
   "metadata": {
    "id": "fGsbk6YNGFEJ"
   },
   "source": [
    "En este caso estamos usando una _función_ (_print_) que recibe un texto y lo muestra por pantalla (o en este caso, lo retorna como salida de la celda).\n",
    "\n",
    "Una función es un programa que resuelve un problema muy específico la cual puede recibir una serie de datos de entrada (que llamamos parámetros) y, por lo general, devuelven alguna información a partir de esos datos. Para usar una función en python debemos colocar su nombre seguido de paréntesis, dentro de los cuales se específican los parámetros a usar. \n",
    " \n",
    "En _Python_ existen muchísimas funciones para resolver todo tipo de problemas y actividades, así como para automatizar y repetir tareas.\n",
    " \n",
    "Adicionalmente, existe un gran número de librerías (paquetes de funciones extras especializadas) creadas principalmente por la comunidad que pueden ser usadas de forma libre y gratuita, lo cual hace de _Python_ un lenguaje muy completo para resolver casi cualquier problema. Además, si no encontramos alguna función que haga justo lo que queremos, siempre podemos hacer nuestras propias funciones.\n",
    "\n",
    "[Documentación python](https://docs.python.org/es/3/)\n",
    " \n"
   ]
  },
  {
   "cell_type": "code",
   "execution_count": null,
   "metadata": {
    "id": "ItHZ8gpjFbPf"
   },
   "outputs": [],
   "source": [
    "print(\"¡Hola mundo!\")"
   ]
  },
  {
   "cell_type": "markdown",
   "metadata": {
    "id": "zrTCnP6RYTnC"
   },
   "source": [
    "## Tipos de datos\n",
    " \n",
    "Además de las funciones, algo fundamental en la programación son los datos, en _Python_ tenemos 4 tipos de datos básicos:\n",
    " \n",
    " * Entero (int): Son los números tal cual los usamos para contar, al igual que los negativos, por ejemplo: 1, 2 , 10, 0, -5, -14, 3486.\n",
    " * Punto flotante (float): Son los que conocemos como números reales o decimales, por ejemplo: 1.1, 1.56, 153.598, 3.1416, -2.5248, 0.0. (*)\n",
    " * Booleano (bool): Es el tipo de dato más básico, sólo puede tomar como valor verdadero (True) o falso (False).\n",
    " * Texto (str): Es un conjunto de caracteres, pueden estar compuesto de letras, números o símbolos, por ejemplo: \"hola\", \"Python3\", \"Wow!\".\n",
    " \n",
    " Con la función _type_ podemos saber de qué tipo es el dato que se le pase como parámetro.\n",
    " \n",
    " ¿Pueden adivinar los tipos de los siguientes datos?\n",
    " "
   ]
  },
  {
   "cell_type": "code",
   "execution_count": null,
   "metadata": {
    "id": "GWJrusQ-JzXY"
   },
   "outputs": [],
   "source": [
    "type(1.0)"
   ]
  },
  {
   "cell_type": "code",
   "execution_count": null,
   "metadata": {
    "id": "0_pj270qJ5i8"
   },
   "outputs": [],
   "source": [
    "type(\"Hola mundo!\")"
   ]
  },
  {
   "cell_type": "code",
   "execution_count": null,
   "metadata": {
    "id": "xHb0i0q3J8Gk"
   },
   "outputs": [],
   "source": [
    "type(\"123\")"
   ]
  },
  {
   "cell_type": "markdown",
   "metadata": {
    "id": "HX0IDjZTKITQ"
   },
   "source": [
    "## Operaciones\n",
    " \n",
    "Muchas veces los datos por si solos carecen de sentido, y tenemos que aplicarle operaciones para poder obtener información de ellos. \n",
    " \n",
    "En _python_ podemos hacer varias operaciones entre dos datos, dependiendo de sus tipos.\n",
    " \n",
    "Operación | Operador | Tipo de datos | Ejemplo | Resultado\n",
    "----------|----------|---------------|---------|---------\n",
    "Suma | + | int, float, bool, str | 3 + 4 | 7\n",
    "Resta | - | int, float, bool | 5 - 10 | -5\n",
    "Multiplicación | \\* | int, float, bool, str | 9 \\* 8 | 72\n",
    "División | / | int, float, bool |  10 / 5 | 2.0\n",
    "Módulo | % | int, float, bool | 10 % 3 | 1\n",
    "Cociente | // | int, float, bool | 105 // 10 | 10\n",
    "Potencia | \\*\\* | int, float, bool | 2 \\*\\* 5 | 32\n",
    " \n",
    "¿Pueden adivinar el resultado de las siguientes operaciones y de qué tipo son los mismos?\n",
    "\n",
    "\n"
   ]
  },
  {
   "cell_type": "code",
   "execution_count": null,
   "metadata": {
    "id": "r-27_mjQYa8C"
   },
   "outputs": [],
   "source": [
    "1+1"
   ]
  },
  {
   "cell_type": "code",
   "execution_count": null,
   "metadata": {
    "id": "eS_ocoFpMaYw"
   },
   "outputs": [],
   "source": [
    "5 - 15.0"
   ]
  },
  {
   "cell_type": "code",
   "execution_count": null,
   "metadata": {
    "id": "ZtctNoszQ8p8"
   },
   "outputs": [],
   "source": [
    "4 * 5"
   ]
  },
  {
   "cell_type": "code",
   "execution_count": null,
   "metadata": {
    "id": "7qj1pcQVR0KF"
   },
   "outputs": [],
   "source": [
    "2020 + \"foo\""
   ]
  },
  {
   "cell_type": "code",
   "execution_count": null,
   "metadata": {
    "id": "bsn3xlAzR2hU"
   },
   "outputs": [],
   "source": [
    "\"2020 \" + \"foo\" "
   ]
  },
  {
   "cell_type": "code",
   "execution_count": null,
   "metadata": {
    "id": "LEzb0Z5yR7zM"
   },
   "outputs": [],
   "source": [
    "5 * \"foobar\""
   ]
  },
  {
   "cell_type": "markdown",
   "metadata": {
    "id": "MhDRyn6VJlq0"
   },
   "source": [
    "## Comentarios\n",
    "\n",
    "Frecuentemente es útil agregar información y descripciones dentro de nuestro código de forma tal que sea \"ignorada\" por el intérprete. En _Python_ podemos escribir estos comentarios _en línea_ utilizando como delimitador el carácter _#_."
   ]
  },
  {
   "cell_type": "code",
   "execution_count": null,
   "metadata": {
    "id": "8DnCTSP-OfgH"
   },
   "outputs": [],
   "source": [
    "#Esta línea es un comentario y no tiene incidencia en el funcionamiento del programa.\n",
    "print(\"¡Hola!\")"
   ]
  },
  {
   "cell_type": "code",
   "execution_count": null,
   "metadata": {
    "id": "VpGuTZ6KQICL"
   },
   "outputs": [],
   "source": [
    "10 * 10  # También podemos agregar comentarios en la misma línea que el código."
   ]
  },
  {
   "cell_type": "markdown",
   "metadata": {
    "id": "DZRBjbh-tmkb"
   },
   "source": [
    "# Variables\n",
    " \n",
    "Cuando necesitamos guardar algún valor o resultado de nuestro código, para acceder a ellos en otro momento, utilizamos las variables. Estas son un espacio de memoria con un nombre asignado para poder acceder a la información en ellas de forma rápida. \n",
    " \n",
    "Es recomendable que las variables sean descriptivas de la información que guardan. \n",
    " \n",
    "Para crear una variable debemos colocar el nombre que le queremos asignar, seguido por el símbolo igual (=) y luego la información que se quiere guardar, esto puede ser un dato como tal o el resultado de una operación o función.\n",
    " \n",
    "Luego para acceder a dicha información basta con escribir el nombre de la variable. Esto nos permite no solo ver su contenido, sino también realizar operaciones sobre el mismo."
   ]
  },
  {
   "cell_type": "code",
   "execution_count": null,
   "metadata": {
    "id": "3aJLKyAFrIKQ"
   },
   "outputs": [],
   "source": [
    "curso = \"Ciencia de datos\"\n",
    "\n",
    "# La función print, muestra en pantalla lo que le pasamos como parámetro.\n",
    "print(curso)"
   ]
  },
  {
   "cell_type": "code",
   "execution_count": null,
   "metadata": {
    "id": "3oqmrRZFcu5K"
   },
   "outputs": [],
   "source": [
    "duracion = 5 + 4\n",
    "print(duracion)"
   ]
  },
  {
   "cell_type": "code",
   "execution_count": null,
   "metadata": {
    "id": "-xrgNc5kc3y-"
   },
   "outputs": [],
   "source": [
    "duracion * 3\n",
    "\n",
    "#(nota: útlima fila siempre aparece, aunque no tenga print)"
   ]
  },
  {
   "cell_type": "markdown",
   "metadata": {
    "id": "sB205YNMkMP9"
   },
   "source": [
    "### Espacios y Tildes\n",
    "\n",
    "Cuando se genera una variable o cualquier otro objeto en Python no es posible utilizar espacios. Asimismo es recomendable no utilizar tildes ni ñ ya que no son leídos correctamente por algunos lenguajes."
   ]
  },
  {
   "cell_type": "code",
   "execution_count": null,
   "metadata": {
    "id": "JLTK_utAkPOR"
   },
   "outputs": [],
   "source": [
    "prueba con espacio = 1\n",
    "print(prueba con espacio)"
   ]
  },
  {
   "cell_type": "code",
   "execution_count": null,
   "metadata": {
    "id": "92bvH24mkgHT"
   },
   "outputs": [],
   "source": [
    "prueba_sin_espacio =        1\n",
    "print(prueba_sin_espacio)"
   ]
  },
  {
   "cell_type": "code",
   "execution_count": null,
   "metadata": {
    "id": "UbKbBppokP76"
   },
   "outputs": [],
   "source": [
    "año = 2020            # con ñ\n",
    "print(año)\n",
    "canción = \"Jijiji\"    #con tilde\n",
    "print(canción)"
   ]
  },
  {
   "cell_type": "code",
   "execution_count": null,
   "metadata": {
    "id": "0x3vP04okY-Q"
   },
   "outputs": [],
   "source": [
    "anio = 2020         # sin n\n",
    "print(anio)\n",
    "cancion = \"Jijiji\"  # sin tilde\n",
    "print(cancion)"
   ]
  },
  {
   "cell_type": "markdown",
   "metadata": {
    "id": "uaVrMxILx02d"
   },
   "source": [
    "# Estructuras de datos\n",
    " \n",
    "Además de los tipos de datos básicos (entero, flotante, booleano y texto), python posee varios tipos de datos más complejos que funcionan como contenedores de otros tipos de datos ayudando a modelar y recolectar de una forma más ordenada y manejable la información. \n",
    " \n",
    "## Listas\n",
    " \n",
    "Las listas son un conjunto de datos indexados, esto quiere decir, que cada posición en la lista tiene un índice al cual se debe hacer referencia para poder acceder al valor de la posición. \n",
    " \n",
    "Las listas nos permiten guardar varios datos en una sola variable, y acceder a cada uno de ellos a través del índice, que indica su posición en la lista. \n",
    " \n",
    "Para crear una lista colocamos todos los datos que se quieren registrar entre corchetes, separados por comas.\n",
    " \n",
    "Para acceder, o editar, un elemento de la lista, usamos su índice. **La numeración empieza en 0**. \n",
    " \n",
    "Ahora crearemos una lista con sus edades y corregiremos una de las entradas para demostrar el uso de los indices.\n",
    "\n",
    "[Explicación extra y practica](https://www.w3schools.com/python/python_lists.asp)"
   ]
  },
  {
   "cell_type": "code",
   "execution_count": null,
   "metadata": {
    "id": "gibCK6Mvkwr7"
   },
   "outputs": [],
   "source": [
    "# Se debe crear la lista edades con las edades de los estudiantes entre corchetes, elementos divididos con coma\n",
    "edades = []  #pueden ser tipos de datos distintos en el interior\n",
    "print(edades)\n"
   ]
  },
  {
   "cell_type": "code",
   "execution_count": null,
   "metadata": {
    "id": "Ek_PWvvSkwys"
   },
   "outputs": [],
   "source": [
    "# Seleccionamos un elemento con el indice: recordar que siempre empieza con 0\n",
    "\n",
    "print(edades[-1])\n"
   ]
  },
  {
   "cell_type": "code",
   "execution_count": null,
   "metadata": {
    "id": "6oWkCWcFkw59"
   },
   "outputs": [],
   "source": [
    "# Modificamos un elemento seleccionandolo con el indice\n",
    "\n",
    "edades[1] = 1\n",
    "print(edades)"
   ]
  },
  {
   "cell_type": "markdown",
   "metadata": {
    "id": "v3oWA1_09UQj"
   },
   "source": [
    "Las listas tienen una serie de funciones internas que nos ayudan a trabajar con ellas, algunas de estas son:\n",
    "* append: Nos permite agregar un nuevo dato en la siguiente posición de la lista.\n",
    "* sort: Ordena la lista de mayor a menor. \n",
    "* len: Devuelve el tamaño de la lista. \n",
    "* pop: Borra el último elemento de la lista.\n",
    "* remove: Elimina la primera aparición de un elemento específico en la lista. \n",
    " \n",
    "Para más funciones aplicables a la lista recomendamos leer la [documentación](https://docs.python.org/3/tutorial/introduction.html#lists) oficial de python. También pueden leer [Información extra y practica](https://www.w3schools.com/python/python_lists_methods.asp)\n",
    " \n",
    "Las funciones propias de una estructura como las listas se llaman métodos, y la sintaxis de uso es un poco diferente a las funciones\n",
    "\n"
   ]
  },
  {
   "cell_type": "code",
   "execution_count": null,
   "metadata": {
    "id": "MND9_mTClW1j"
   },
   "outputs": [],
   "source": [
    "# append agrega un elemento a la lista\n",
    "\n",
    "edades.append(58)\n",
    "print(edades)\n"
   ]
  },
  {
   "cell_type": "code",
   "execution_count": null,
   "metadata": {
    "id": "VsMyNB3mlW48"
   },
   "outputs": [],
   "source": [
    "# sort ordena la lista de mayor a menor\n",
    "\n",
    "edades.sort()\n",
    "print(edades)"
   ]
  },
  {
   "cell_type": "code",
   "execution_count": null,
   "metadata": {
    "id": "Hnx2ghGJldnb"
   },
   "outputs": [],
   "source": [
    "# sort con reverse=True ordena lista de menor a mayor\n",
    "\n",
    "edades.sort(reverse=True) #documentación\n",
    "print(edades)"
   ]
  },
  {
   "cell_type": "code",
   "execution_count": null,
   "metadata": {
    "id": "3qltKgOZlgJz"
   },
   "outputs": [],
   "source": [
    "# Cuenta la cantidad de elementos de la lista\n",
    "\n",
    "len(edades)"
   ]
  },
  {
   "cell_type": "code",
   "execution_count": null,
   "metadata": {
    "id": "2DmC5myElWym"
   },
   "outputs": [],
   "source": [
    "# pop borra el último elemento de la lista\n",
    "\n",
    "print(edades)\n",
    "edades.pop(2) #se sobreescribe\n",
    "print(edades)\n"
   ]
  },
  {
   "cell_type": "code",
   "execution_count": null,
   "metadata": {
    "id": "59nnK53TmYe3"
   },
   "outputs": [],
   "source": [
    "# remove borra un elemento de la lista\n",
    "\n",
    "print(edades)\n",
    "edades.remove(18) #escribir entre comillas el valor\n",
    "print(edades)"
   ]
  },
  {
   "cell_type": "markdown",
   "metadata": {
    "id": "vl88zM3rIvAr"
   },
   "source": [
    "## Diccionarios (optativo)\n",
    "\n",
    "Los diccionarios son estructuras de \"clave - valor\", es decir, cada entrada tiene una clave o key, la cual se usa para acceder a la información o valor en el. Las claves no pueden repetirse. \n",
    "\n",
    "Para crear un diccionario usamos llaves y unimos una clave con su valor por dos puntos (:).\n",
    "\n",
    "[Documentación](https://docs.python.org/es/3/tutorial/datastructures.html#dictionaries)"
   ]
  },
  {
   "cell_type": "code",
   "execution_count": null,
   "metadata": {
    "id": "Zy-aNx8VJ3E8"
   },
   "outputs": [],
   "source": [
    "curso = {\"Nombre\": \"Datos\",\n",
    "    \"Duración\": 12,\n",
    "    \"Sede\" : \"Avellaneda\"\n",
    "}\n",
    "curso\n"
   ]
  },
  {
   "cell_type": "markdown",
   "metadata": {
    "id": "1SPqT3A5LoI3"
   },
   "source": [
    "Entre los métodos más usados de los diccionarios están:\n",
    "* keys: Devuelve las llaves del diccionario.\n",
    "* values: Devuelve los valores del diccionario.\n",
    "* items: devuelve tuplas con los pares llave/valor. "
   ]
  },
  {
   "cell_type": "code",
   "execution_count": null,
   "metadata": {
    "id": "GOpHx65_MIYT"
   },
   "outputs": [],
   "source": [
    "curso.keys()\n"
   ]
  },
  {
   "cell_type": "code",
   "execution_count": null,
   "metadata": {
    "id": "Q7Ghu4XWnWv4"
   },
   "outputs": [],
   "source": [
    "curso.values()\n"
   ]
  },
  {
   "cell_type": "code",
   "execution_count": null,
   "metadata": {
    "id": "Wype6G0GnX4B"
   },
   "outputs": [],
   "source": [
    "curso.items()"
   ]
  },
  {
   "cell_type": "markdown",
   "metadata": {
    "id": "lSFyh6LpKZm9"
   },
   "source": [
    "Para acceder a un valor en particular debemos colocar el nombre del diccionario, y luego entre corchetes la llave del valor al que queremos acceder, de esta misma forma podemos editar o agregar nuevos valores al diccionario. \n",
    " \n",
    "Pueden ver más [métodos de diccionarios y practicar](https://www.w3schools.com/python/python_ref_dictionary.asp)."
   ]
  },
  {
   "cell_type": "code",
   "execution_count": null,
   "metadata": {
    "id": "FIU_IB_dnGWX"
   },
   "outputs": [],
   "source": [
    "print(curso[\"Nombre\"] )"
   ]
  },
  {
   "cell_type": "code",
   "execution_count": null,
   "metadata": {
    "id": "efHcZAOpnJNT"
   },
   "outputs": [],
   "source": [
    "#cambiar valor\n",
    "curso[\"Nombre\"]=\"Datos\"\n",
    "print(curso)"
   ]
  },
  {
   "cell_type": "code",
   "execution_count": null,
   "metadata": {
    "id": "IeW8nybinLhH"
   },
   "outputs": [],
   "source": [
    "#agregar par clave-valor\n",
    "curso[\"Mentora\"]=\"Valeria\"\n",
    "print(curso)"
   ]
  },
  {
   "cell_type": "markdown",
   "metadata": {
    "id": "I_yl59OOEwxn"
   },
   "source": [
    "## Tuplas (optativo)\n",
    "\n",
    "Las tuplas son muy similares a las listas, se diferencian en que las tuplas son inmutables, esto quiere decir, que no se puede modificar la información que tienen.\n",
    "\n",
    "Para crear tuplas se usan parentesis. \n",
    "\n",
    "Entre los usos mas comunes de las tuplas es guardar información para conexiones a bases de datos, o almacenamiento de datos que no queremos que cambien a lo largo del programa."
   ]
  },
  {
   "cell_type": "code",
   "execution_count": null,
   "metadata": {
    "id": "G7gaxwqTGccg"
   },
   "outputs": [],
   "source": [
    "cursos = (\"Ciencia de datos\", \"Robotica\", \"Programación Web\", \"Inmersivas\")\n",
    "print(cursos)\n"
   ]
  },
  {
   "cell_type": "code",
   "execution_count": null,
   "metadata": {
    "id": "LVV0X9cUmycS"
   },
   "outputs": [],
   "source": [
    "# La siguiente linea genera un error debido a la propiedad de inmutabiliad de las tuplas\n",
    "cursos[0] = \"Data Science\""
   ]
  },
  {
   "cell_type": "markdown",
   "metadata": {
    "id": "jJt0ZZDpNZ7T"
   },
   "source": [
    "# Desafío 1"
   ]
  },
  {
   "cell_type": "markdown",
   "metadata": {
    "id": "9C3j2b087eFh"
   },
   "source": [
    "1. Hacer una lista que contenga 3 materias de la escuela\n",
    "\n",
    "2. Seleccionar el segundo elemento de la lista\n",
    "\n",
    "3. Agregar una materia más al final\n",
    "\n",
    "4. Eliminar el primer registro de la lista\n",
    "\n",
    "\n"
   ]
  }
 ],
 "metadata": {
  "colab": {
   "collapsed_sections": [],
   "name": "Intro + Tipos de datos.ipynb",
   "provenance": []
  },
  "kernelspec": {
   "display_name": "Python 3",
   "language": "python",
   "name": "python3"
  },
  "language_info": {
   "codemirror_mode": {
    "name": "ipython",
    "version": 3
   },
   "file_extension": ".py",
   "mimetype": "text/x-python",
   "name": "python",
   "nbconvert_exporter": "python",
   "pygments_lexer": "ipython3",
   "version": "3.7.10"
  }
 },
 "nbformat": 4,
 "nbformat_minor": 4
}
