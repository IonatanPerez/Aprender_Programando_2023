{
 "cells": [
  {
   "cell_type": "markdown",
   "id": "electronic-contractor",
   "metadata": {
    "id": "neither-theorem"
   },
   "source": [
    "# Obtención de datos\n",
    " \n",
    "La materia prima de los proyectos de análisis de datos son, obviamente, los datos, por lo que la obtención de los mismos es un tema relevante. Por lo general podemos tener diversas fuentes de datos, algunos ejemplos:\n",
    "* Datos libres: Son datos proporcionados por entidades gubernamentales, ONG o incluso empresas privadas, que son de uso libre para la comunidad, por ejemplo los que proporciona el [gobierno de la ciudad de buenos aires](https://data.buenosaires.gob.ar/)\n",
    "* API: Cuando estamos trabajando en proyectos privados es muy común encontrarnos con API's, estas son interfaces para consumir o generar datos a una fuente específica y de forma controlada, algunas API's de libre uso son de [Twitter](https://developer.twitter.com/en/docs/twitter-api), [NASA]( https://api.nasa.gov/) e incluso video juegos como [Heartstone](https://develop.battle.net/documentation/hearthstone/game-data-apis).\n",
    "* Web Scraping: Son softwares que descargan información de páginas web, generalmente simulando la navegación de un humano. Es una técnica muy usada para obtener gran cantidad de datos, sin embargo se debe de tener cuidado de que la página de la cual se están bajando datos permite el uso de esta técnica.\n",
    " \n",
    "\n",
    "# Librerías\n",
    " \n",
    "Una librería es un conjunto de funciones enfocadas a resolver una problemática en general, en algunos casos las librerías generan incluso nuevos tipos de datos, lo cual aumenta considerablemente sus funcionalidades. Estas librerías son realizadas, en su mayoría, por la misma comunidad de programadores.\n",
    " \n",
    "Antes de poder usar una librería por lo general debes de instalar la misma, sin embargo, este es un paso que podemos omitir en Google Colab, gracias a que la plataforma ya cuenta con las librerías más populares preinstaladas.\n",
    " \n",
    "Para poder usar una librería primero debemos decirle a python que queremos usar dicha librería, para esto usamos el comando *import*.\n",
    " \n",
    "## Pandas\n",
    " \n",
    "Pandas es una de las librerías más usadas para analizar y manipular datos. Nos permite trabajar con una nueva estructura de datos, los _Data Frame_, que nos permite visualizar los datos en forma de tabla. \n",
    " \n",
    "Pandas nos proporciona una gran cantidad de funciones para manipular y transformar los Data Frame de forma sencilla, rápida y cómoda, además de proporcionarnos herramientas para poder leer datos y convertirlos en Data Frames de forma automática.\n",
    " \n",
    "Es muy aconsejable leer la [documentación](https://pandas.pydata.org/docs/) de Pandas ante cualquier duda, ya que la misma cuenta con una explicación detallada y ejemplos para cada función disponible. Adicionalmente a la documentación podemos ver todas las funcionalidades más comunes de la librería en su [hoja de trucos](https://pandas.pydata.org/Pandas_Cheat_Sheet.pdf). Y pueden ver [material adicional de w3school](https://www.w3schools.com/python/pandas/pandas_analyzing.asp)\n",
    "\n",
    "\n",
    "## Dataset\n",
    "\n",
    "En esta notebook comenzaremos a ver como podemos subir un dataset y hacer una una primera exploración con distintos métodos de la libreria pandas para ver el tamaño, las columnas, qué tipo de valores toma, que información incluye, qué tipos de datos hay. \n",
    "\n",
    "Utilizaremos un dataset sobre el Abrbolado de la Ciudad de Buenos Aires extraído de https://data.buenosaires.gob.ar/dataset/arbolado-publico-lineal\n",
    "\n",
    "Cada fila de este dataset representa UN Árbol\n"
   ]
  },
  {
   "cell_type": "code",
   "execution_count": null,
   "id": "celtic-pharmacology",
   "metadata": {
    "id": "collaborative-order"
   },
   "outputs": [],
   "source": [
    "#importamos la libreria pandas que utilizaremos\n",
    "import pandas as pd\n"
   ]
  },
  {
   "cell_type": "markdown",
   "id": "pacific-faith",
   "metadata": {
    "id": "u3eWqHlN0WfS"
   },
   "source": [
    "### Importamos un archivo CSV (separado por comas)\n",
    "\n",
    "Podemos leer el archivo y convertirlo en un _Data Frame_ de Pandas. Para esto usamos la función _read_csv_ y le pasamos como argumento el nombre del archivo. \n",
    "Pandas cuenta con funciones para convertir todo tipo de archivos a un _Data Frame_. [En esta sección de la documentación oficial](https://pandas.pydata.org/pandas-docs/stable/user_guide/io.html), podemos encontrar las diferentes funciones de conversión.\n",
    "\n",
    "[Documentación de método read_csv](https://pandas.pydata.org/docs/reference/api/pandas.read_csv.html?highlight=read_csv)\n",
    "\n",
    "Hay distintas maneras de subir un archivo a Google Colab: Desde el Drive, seleccionandolo desde la computadora o, en algunos casos, con una URL.\n",
    "\n",
    "\n",
    "#### Desde el Drive"
   ]
  },
  {
   "cell_type": "code",
   "execution_count": null,
   "id": "handled-youth",
   "metadata": {
    "id": "vanilla-french"
   },
   "outputs": [],
   "source": [
    "# Se permite desde la Notebook acceder al Drive\n",
    "\n",
    "from google.colab import drive\n",
    "drive.mount('/content/drive')"
   ]
  },
  {
   "cell_type": "code",
   "execution_count": null,
   "id": "inclusive-cursor",
   "metadata": {
    "id": "ybPYzUecFmSY"
   },
   "outputs": [],
   "source": [
    "# usando el método read_csv se coloca la ruta copiada desde el Drive\n",
    "\n",
    "data = pd.read_csv(\"ruta\",  sep=\";\") #aclaración punto y coma en este archivo"
   ]
  },
  {
   "cell_type": "markdown",
   "id": "macro-library",
   "metadata": {
    "id": "F5XabMqx0kSX"
   },
   "source": [
    "#### Desde el archivo descargado en la computadora con las librerias **_google.colab_** y **_io_**.\n",
    "\n",
    "Estas librerías nos ayudaran a leer el archivo que bajamos en nuestros notebook de colab.\n",
    "\n",
    "La librería _google.colab_ se importa diferente a las demás. Esto es porque cuando sabemos específicamente la función que queremos usar de una librería, y sabemos que no necesitamos más nada de la misma, podemos llamar solo esa función en lugar de toda la librería, y de esta manera sobrecargar menos nuestro código. Por eso al escribir `from google.colab import files` estamos diciendo que, de la librería _google.colab_ solo importe la función _files_.\n",
    " \n",
    "Ahora usaremos las función _files_ de la libreria _google.colab_ esta función nos permite subir un archivo al directorio de trabajo en el que se está ejecutando el notebook. Al ejecutar la celda nos aparece un botón para subir archivos, seleccionamos el archivo de arbolado y le damos a abrir. \n"
   ]
  },
  {
   "cell_type": "code",
   "execution_count": null,
   "id": "cardiovascular-antenna",
   "metadata": {
    "id": "0XwLHu510ox_"
   },
   "outputs": [],
   "source": [
    "from google.colab import files\n",
    "import io"
   ]
  },
  {
   "cell_type": "code",
   "execution_count": null,
   "id": "caring-recruitment",
   "metadata": {
    "colab": {
     "base_uri": "https://localhost:8080/",
     "height": 74,
     "resources": {
      "http://localhost:8080/nbextensions/google.colab/files.js": {
       "data": "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",
       "headers": [
        [
         "content-type",
         "application/javascript"
        ]
       ],
       "ok": true,
       "status": 200,
       "status_text": ""
      }
     }
    },
    "executionInfo": {
     "elapsed": 6818,
     "status": "ok",
     "timestamp": 1645990986389,
     "user": {
      "displayName": "Valeria Bellino",
      "photoUrl": "https://lh3.googleusercontent.com/a/default-user=s64",
      "userId": "05918551666787590515"
     },
     "user_tz": 180
    },
    "id": "FZc8e4fG0p-U",
    "outputId": "4083e80e-df08-4487-e894-8529e44c4e7b"
   },
   "outputs": [],
   "source": [
    "filesUploaded = files.upload()"
   ]
  },
  {
   "cell_type": "code",
   "execution_count": null,
   "id": "informational-mumbai",
   "metadata": {
    "id": "hAhJVk9n0rpe"
   },
   "outputs": [],
   "source": [
    "data = pd.read_csv(io.BytesIO(filesUploaded[\"arbolado-publico-lineal-2017-2018.csv\"]), sep=\";\") \n"
   ]
  },
  {
   "cell_type": "markdown",
   "id": "breeding-endorsement",
   "metadata": {},
   "source": [
    "Podemos utilizar directamente la URL:"
   ]
  },
  {
   "cell_type": "code",
   "execution_count": null,
   "id": "reliable-poultry",
   "metadata": {},
   "outputs": [],
   "source": [
    "data = pd.read_csv(\"https://cdn.buenosaires.gob.ar/datosabiertos/datasets/arbolado-publico-lineal/arbolado-publico-lineal-2017-2018.csv\")\n",
    "data"
   ]
  },
  {
   "cell_type": "markdown",
   "id": "antique-warning",
   "metadata": {
    "id": "lmz_rr-xyJcj"
   },
   "source": [
    "### Exploración de dataset\n",
    "\n",
    "Hay diferentes métodos de la libreria pandas que se pueden utilizar para explorar un dataset\n",
    "\n",
    "- *head()*: los primeros registros de un dataset\n",
    "- *tail()*: los úlitmos registros de un dataset\n",
    "- *sample()*: ver registros aleatoriamente\n",
    "\n",
    "El parámetro dentro del paréntesis indica cuántos registos se mostrarán, por dafault son 5"
   ]
  },
  {
   "cell_type": "code",
   "execution_count": null,
   "id": "knowing-teddy",
   "metadata": {
    "id": "KNnfWE5kGuqo"
   },
   "outputs": [],
   "source": [
    "#Creado el objeto data, lo observamos\n",
    "\n",
    "data\n",
    "\n",
    "# Muestra los primeros 5 y los últimos 5 registros"
   ]
  },
  {
   "cell_type": "code",
   "execution_count": null,
   "id": "incorrect-appointment",
   "metadata": {
    "id": "statutory-designer"
   },
   "outputs": [],
   "source": [
    "data.head()\n"
   ]
  },
  {
   "cell_type": "code",
   "execution_count": null,
   "id": "white-elevation",
   "metadata": {
    "id": "KSci8fcbuG-m"
   },
   "outputs": [],
   "source": [
    "# shape devuelve el tamaño del dataset. Resultado: (filas, columnas). Recordemos que cada fila representa un Árbol\n",
    "\n",
    "data.shape"
   ]
  },
  {
   "cell_type": "code",
   "execution_count": null,
   "id": "macro-reform",
   "metadata": {
    "id": "af7xmWTmuS1X"
   },
   "outputs": [],
   "source": [
    "# columns demuestra una lista con nombres de las columnas\n",
    "\n",
    "data.columns"
   ]
  },
  {
   "cell_type": "markdown",
   "id": "voluntary-gauge",
   "metadata": {
    "id": "yTfYRCrRyio6"
   },
   "source": [
    "Para ver una sola columna, hay dos métodos: \n",
    "\n",
    "- Poner el nombre del DataFrame (tabla) y entre corchetes el nombre de la columna entre comillas *DataFrame[\"nombre_columna\"]*\n",
    "- Colocar el nombre del DataFrame, punto y la columna: *DataFrame.columna*\n"
   ]
  },
  {
   "cell_type": "code",
   "execution_count": null,
   "id": "permanent-psychology",
   "metadata": {
    "id": "2z0mzmMNueV2"
   },
   "outputs": [],
   "source": [
    "data[\"nombre_cientifico\"]  # puede ser comilla simple o doble"
   ]
  },
  {
   "cell_type": "code",
   "execution_count": null,
   "id": "empirical-brain",
   "metadata": {
    "id": "Sh546bhCuxJ5"
   },
   "outputs": [],
   "source": [
    "data.nombre_cientifico"
   ]
  },
  {
   "cell_type": "code",
   "execution_count": null,
   "id": "german-swift",
   "metadata": {
    "id": "N6CWHb1uuzPv"
   },
   "outputs": [],
   "source": [
    "# Para ver màs de una columna se debe armar una lista de columnas que deseo seleccionar\n",
    "\n",
    "data[[\"nro_registro\", \"nombre_cientifico\"]]"
   ]
  },
  {
   "cell_type": "markdown",
   "id": "disciplinary-vermont",
   "metadata": {
    "id": "OBwxiTJyy2km"
   },
   "source": [
    "Dentro de un DataFrame, cada columna puede tomar distintos tipos de datos. \n",
    "\n",
    "- Número entero: int\n",
    "- Número con decimales: float\n",
    "- Cadena de caracteres: str\n",
    "- Object: objeto que no es un numero\n",
    "\n",
    "Dentro de una misma columna no puede haber distintos tipos de datos, por ejemplo: si casi todos los registros de una columna tienen números pero un registro tiene una cadena de carácteres, el tipo de dato es \"object\" y los números también son considerados como no-numéricos (no se pueden realizar operaciones matemáticas)"
   ]
  },
  {
   "cell_type": "code",
   "execution_count": null,
   "id": "guilty-turning",
   "metadata": {
    "id": "AOMHuQC8u-DY"
   },
   "outputs": [],
   "source": [
    "# dtypes: tipo de dato de cada columna\n",
    "\n",
    "data.dtypes"
   ]
  },
  {
   "cell_type": "code",
   "execution_count": null,
   "id": "musical-clinton",
   "metadata": {
    "id": "leading-harvest"
   },
   "outputs": [],
   "source": [
    "#info devuelve un resumen de información general del dataset\n",
    "\n",
    "data.info()"
   ]
  },
  {
   "cell_type": "markdown",
   "id": "hawaiian-applicant",
   "metadata": {
    "id": "pOgaELthv1tV"
   },
   "source": [
    "#### Operaciones matemáticas\n",
    "\n",
    "Sobre un dataset se pueden realizar operaciones matemáticas utilizando métodos de la libreria pandas. Por ejemplo sobre una columna es posible contar los valores (*count*), sumar los valores (*sum*) o seleccionar el valor máximo (*max*) o mínimo (*min*)"
   ]
  },
  {
   "cell_type": "code",
   "execution_count": null,
   "id": "naval-vehicle",
   "metadata": {
    "id": "PejA-qQFwHzE"
   },
   "outputs": [],
   "source": [
    "# Cuántos árboles hay\n",
    "\n",
    "data[\"nro_registro\"].count()"
   ]
  },
  {
   "cell_type": "code",
   "execution_count": null,
   "id": "systematic-breathing",
   "metadata": {
    "id": "PejA-qQFwHzE"
   },
   "outputs": [],
   "source": [
    "# Cuánto es la altura sumada de todos los árboles\n",
    "\n",
    "data[\"altura_arbol\"].sum()"
   ]
  },
  {
   "cell_type": "code",
   "execution_count": null,
   "id": "dedicated-casting",
   "metadata": {
    "id": "pKd472EfAwyJ"
   },
   "outputs": [],
   "source": [
    "# Cuál es la altura del árbol más alto\n",
    "\n",
    "data[\"altura_arbol\"].max()"
   ]
  },
  {
   "cell_type": "code",
   "execution_count": null,
   "id": "apart-berry",
   "metadata": {
    "id": "7fpzmueWBB3v"
   },
   "outputs": [],
   "source": [
    "# Cuál es la altura del árbol más bajo\n",
    "\n",
    "data[\"altura_arbol\"].min()"
   ]
  },
  {
   "cell_type": "markdown",
   "id": "dangerous-adjustment",
   "metadata": {
    "id": "e51ofbzzzF57"
   },
   "source": [
    "#### Valores que que toman los registros en cada columna\n",
    "\n",
    "*unique()*: muestra los todos los valores que pueden tomar las registros de una columna\n",
    "\n",
    "*value_counts()*: cuenta la cantidad de valores. En caso de querer saber cuantas especies existen en el Data Frame y cuantas observaciones hay de cada una podemos usar el método  _values_count_, que devuelve todos los valores distintos que existen en esa columna junto a la cantidad de veces que aparece dicho valor  ordenado de mayor a menor. \n"
   ]
  },
  {
   "cell_type": "code",
   "execution_count": null,
   "id": "informational-ministry",
   "metadata": {
    "id": "eRKL3fl4wly7"
   },
   "outputs": [],
   "source": [
    "# unique: para concer los valores únicos que toma una columna\n",
    "\n",
    "data[\"nombre_cientifico\"].unique()"
   ]
  },
  {
   "cell_type": "code",
   "execution_count": null,
   "id": "fallen-lunch",
   "metadata": {
    "id": "VAkHRyPBwuLO"
   },
   "outputs": [],
   "source": [
    " # value_counts(): para conocer cuantos registros(filas) hay de cada valor de una columna\n",
    "\n",
    "data[\"nombre_cientifico\"].value_counts()"
   ]
  },
  {
   "cell_type": "markdown",
   "id": "front-fight",
   "metadata": {
    "id": "-i7G12D98U_o"
   },
   "source": [
    "#### Operaciones sobre columnas\n",
    "\n",
    "Es posible modificar el nombre de una sola columna definiendola con el método *rename* y un diccionario de lo que se desea cambiar. [Documentación método rename](https://pandas.pydata.org/docs/reference/api/pandas.DataFrame.rename.html)\n",
    "\n",
    "En el caso que se desee modificar los nombres de todas las columnas, se puede utilizar el método *columns* con una lista de los nombres (siempre tiene que haber la misma cantidad de nombres que de columnas)\n",
    "\n",
    "Otra acción que se puede realizar sobre una columna es eliminarla con el método *drop*. [Documentación método drop](https://pandas.pydata.org/docs/reference/api/pandas.DataFrame.drop.html?highlight=drop#pandas.DataFrame.drop)"
   ]
  },
  {
   "cell_type": "code",
   "execution_count": null,
   "id": "federal-ireland",
   "metadata": {
    "id": "MEW1BYVQ8xg3"
   },
   "outputs": [],
   "source": [
    "renombrar = {\"long\": \"longitud\"}\n",
    "\n",
    "data.rename(columns = renombrar, inplace=True)\n",
    "\n",
    "# El argumento inplace indica que se haga la modificación en el mismo DataFrame que estamos utilizando, otra posiblidad sería crear un DataFrame nuevo"
   ]
  },
  {
   "cell_type": "code",
   "execution_count": null,
   "id": "appointed-script",
   "metadata": {
    "id": "hzq_rshr9RKP"
   },
   "outputs": [],
   "source": [
    "data.head(2)"
   ]
  },
  {
   "cell_type": "code",
   "execution_count": null,
   "id": "excess-night",
   "metadata": {
    "id": "TRL-IUej8xjk"
   },
   "outputs": [],
   "source": [
    "data.columns =[\"longitud\", \"latitud\", \"nro_registro\", \"tipo_activ\", \"comuna\", \"manzana\",\"calle_nombre\", \"calle_altura\", \"calle_chapa\", \"direccion_normalizada\",\n",
    "               \"ubicacion\", \"nombre_cientifico\", \"ancho_acera\", \"estado_plantera\",\"ubicacion_plantera\", \"nivel_plantera\", \"diametro_altura_pecho\", \"altura_arbol\"]"
   ]
  },
  {
   "cell_type": "code",
   "execution_count": null,
   "id": "dominican-structure",
   "metadata": {
    "id": "X4aqmd688xme"
   },
   "outputs": [],
   "source": [
    "data.head(2)"
   ]
  },
  {
   "cell_type": "code",
   "execution_count": null,
   "id": "above-inside",
   "metadata": {
    "id": "RBlC41D18xp-"
   },
   "outputs": [],
   "source": [
    "data_con_drop = data.drop(columns=\"manzana\")\n",
    "\n",
    "#Sin el inplace no se modifica el DataFrame que estamos utilizando, se puede crear uno nuevo."
   ]
  },
  {
   "cell_type": "code",
   "execution_count": null,
   "id": "offshore-voltage",
   "metadata": {
    "id": "ypCJTzj__KAd"
   },
   "outputs": [],
   "source": [
    "data.head(2)"
   ]
  },
  {
   "cell_type": "code",
   "execution_count": null,
   "id": "intense-marks",
   "metadata": {},
   "outputs": [],
   "source": [
    "data_con_drop.head(2)"
   ]
  },
  {
   "cell_type": "markdown",
   "id": "associate-france",
   "metadata": {
    "id": "continental-configuration"
   },
   "source": [
    "### Desafío 3: Pandas\n",
    "\n",
    "Para este Desafío vamos a utilizar un Dataset de Murales del Gobierno de la Ciudad extraído de https://data.buenosaires.gob.ar/dataset/murales \n",
    "\n",
    "Dado como está armado el archivo es importante aclarar que la separación de valores es por punto y coma a través del parámetro sep: \n",
    "\n",
    "*data=pd.read_csv(\"Murales.csv\", sep=\";\")*"
   ]
  },
  {
   "cell_type": "markdown",
   "id": "average-metro",
   "metadata": {
    "id": "dWpAWwxsPJx6"
   },
   "source": [
    "1. Ver las 3 útlimas filas del dataset.\n",
    "\n",
    "2. Ver los nombres de las columnas\n",
    "\n",
    "3. Seleccionar la columna \"AUTORES\". Ver que valores toma esa columna y cuántos registros hay de cada uno.\n",
    "\n",
    "3. ¿Cuál es el mural más antigûo? ¿En qué año se hizo? ¿Quién es el autor?\n",
    "\n",
    "4. Eliminar la columna \"TAAÑO_TS\n",
    "\n",
    "5. Cambiar los nombres de todas las columnas a minuscula"
   ]
  }
 ],
 "metadata": {
  "colab": {
   "collapsed_sections": [],
   "name": "Introducción Pandas.ipynb",
   "provenance": []
  },
  "kernelspec": {
   "display_name": "Python 3",
   "language": "python",
   "name": "python3"
  },
  "language_info": {
   "codemirror_mode": {
    "name": "ipython",
    "version": 3
   },
   "file_extension": ".py",
   "mimetype": "text/x-python",
   "name": "python",
   "nbconvert_exporter": "python",
   "pygments_lexer": "ipython3",
   "version": "3.7.10"
  }
 },
 "nbformat": 4,
 "nbformat_minor": 5
}
