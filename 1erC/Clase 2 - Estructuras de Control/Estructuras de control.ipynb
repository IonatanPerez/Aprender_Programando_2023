{
 "cells": [
  {
   "cell_type": "markdown",
   "metadata": {
    "id": "vXUiSGlpejkZ"
   },
   "source": [
    "# Operaciones lógicas\n",
    " \n",
    "Ya vimos las operaciones básicas entre números y texto, algunas de las cuales permiten el uso de variables booleanas o lógicas (verdadero y falso), sin embargo, ahora cubriremos las operaciones lógicas. Estas son operaciones cuyo resultado es una variable booleana.\n",
    " \n",
    "Operación | Simbolo | Uso | Explicación \n",
    "----------|---------|-----|-----------\n",
    "Mayor que | > | a > b | Devuelve True si a es mayor que b, False sino.\n",
    "Mayor o igual que | >= | a >= b | Devuelve True si a es mayor o igual que b, False sino.\n",
    "Menor que | < | a < b | Devuelve True si a es menor que b, False sino.\n",
    "Menor o igual que | <= | a <= b | Devuelve True si a es menor o igual que b, False sino.\n",
    "Igualdad | == | a == b | Devuelve True si a y b son iguales en tipo y valor, False sino. \n",
    "Distintos | != | a != b | Devuelve True si a y b difieren en tipo o valor, False sino.\n",
    "Negación | not | not a | Devuelve el contrario lógico de a.  \n",
    "O | or | a or b | Devuelve True si a o b son True, False sino.\n",
    "Y | and | a and b | devuelve True si a y b son True, False sino. \n",
    " \n"
   ]
  },
  {
   "cell_type": "code",
   "execution_count": null,
   "metadata": {
    "id": "-r46PM9rx0X2"
   },
   "outputs": [],
   "source": [
    "# Booleano: True o False\n",
    "\n",
    "2>1"
   ]
  },
  {
   "cell_type": "code",
   "execution_count": null,
   "metadata": {
    "id": "WFXk2rmZx8Xj"
   },
   "outputs": [],
   "source": [
    "3==3  #Notar el doble igual"
   ]
  },
  {
   "cell_type": "code",
   "execution_count": null,
   "metadata": {
    "id": "IuXfH6-wyB4A"
   },
   "outputs": [],
   "source": [
    "3<\"hola\""
   ]
  },
  {
   "cell_type": "code",
   "execution_count": null,
   "metadata": {},
   "outputs": [],
   "source": [
    "saludo = \"hola\""
   ]
  },
  {
   "cell_type": "code",
   "execution_count": null,
   "metadata": {},
   "outputs": [],
   "source": [
    "saludo ==\"hola\""
   ]
  },
  {
   "cell_type": "markdown",
   "metadata": {
    "id": "xqYp0bWJxwVf"
   },
   "source": [
    "# Indentación\n",
    " \n",
    "La indentación es la forma de darle al código mayor legibilidad cuando tenemos estructuras de control, definiciones o bloques de código. Esta consiste en agregar espacios (o tabulaciones) al principio de las líneas de forma que las líneas de un mismo bloque de código comienzan siempre a la misma altura.\n",
    " \n",
    "En la mayoría de los lenguajes de programación el uso de la indentación es considerado una buena práctica, aunque opcional. En python su uso es **necesario** para definir el alcance y la extensión de las declaraciones hechas en el programa, por lo tanto hay que prestarle especial cuidado para evitar errores.\n",
    " \n",
    "Un ejemplo de un código indentado es:\n",
    "```\n",
    "# Primer bloque de código sin indentar.\n",
    "block1 line 1\n",
    "block1 line 2\n",
    "block1 line 3\n",
    "  # Segundo bloque de código, indentado primer nivel.\n",
    "  block2 line 1\n",
    "  block2 line 2\n",
    "  block2 line 3\n",
    "    # Tercer bloque de código, indentado segundo nivel.\n",
    "    block3 line 1\n",
    "    block3 line 2\n",
    "# Cuarto bloque de código, nuevamente sin indentar.\n",
    "block4 line 1\n",
    "block4 line 2\n",
    "```\n",
    " \n",
    "# Estructuras de control\n",
    " \n",
    "Nuestros códigos, hasta ahora, han seguido una ejecución lineal, es decir, se ejecutan línea tras línea según el orden en las que se escriben. Sin embargo, muchas veces no vamos a querer que esto ocurra, por ejemplo, cuando queremos correr un segmento de código varias veces cambiando solo un valor, o cuando queremos que un segmento de código se ejecute únicamente si se cumple una condición, para esto usamos las estructuras de control. \n",
    " \n",
    "En Python, como en la mayoría de los lenguajes de programación existen dos tipos de estructuras de control, las condicionales y las iterativas.\n",
    " \n",
    "## Estructuras de control condicionales\n",
    " \n",
    "Las estructuras de control condicionales son muy útiles para decidir qué sección de código se ejecuta dado el valor de las variables (llamado estado del programa) en un determinado momento.\n",
    " \n",
    "### IF\n",
    " \n",
    "Con el comando _if_ (sí en inglés) ejecutamos cierta sección de código, si y sólo si, cierta condición se cumple. Se usa de la siguiente manera:\n",
    "```\n",
    "if condicion:\n",
    "  blockCode\n",
    "```\n",
    "_Condicion_ debe de ser una variable u operación lógica, y, si _condicion_ es verdadero entonces se ejecutarán las líneas de código en _blockCode_, sino, no se ejecutarán dichas líneas, y el programa continuará con la siguiente línea de código. _Blockcode_ puede tener tantas líneas como se necesiten, sin embargo, es importante destacar que todas las líneas deben estar al mismo nivel de indentación, y este debe de ser un nivel mayor al que se encuentre el _if_, también es importante notar los dos puntos luego de la condición. Estos dos puntos indican el comienzo de un bloque.\n",
    "\n"
   ]
  },
  {
   "cell_type": "code",
   "execution_count": null,
   "metadata": {
    "id": "zlisJyu9zjvm"
   },
   "outputs": [],
   "source": [
    "#Si el resultado de la condicion es True, se ejecuta el bloque de código\n",
    "\n",
    "operacion = 1==1\n",
    "\n",
    "\n",
    "if operacion:            #True o #False\n",
    "  print(\"es correcto\")\n",
    "\n",
    "\n",
    "#Observar identación y dos puntos"
   ]
  },
  {
   "cell_type": "code",
   "execution_count": null,
   "metadata": {
    "id": "DucLwfVt1DRq"
   },
   "outputs": [],
   "source": [
    "num1 = 5\n",
    "num2 = 6\n",
    "\n",
    "if num1 >= num2:\n",
    "    print(num1, \"es mayor o igual a\", num2)\n"
   ]
  },
  {
   "cell_type": "code",
   "execution_count": null,
   "metadata": {
    "id": "Wb5_mPacjfHO"
   },
   "outputs": [],
   "source": [
    "# Queremos ir al cine, pero solo podemos ir si el mismo está abierto. \n",
    "cine_esta_abierto = False\n",
    "\n",
    "if cine_esta_abierto:\n",
    "    print(\"Vemos una peli\")\n",
    "\n",
    "#Probar con False"
   ]
  },
  {
   "cell_type": "markdown",
   "metadata": {
    "id": "dUKlYqGilBfI"
   },
   "source": [
    "También podemos especificar que se ejecute otro bloque de código sino se cumple la condición, para esto usamos el comando _else_ (sino en inglés). Como vemos, para dar por finalizado un bloque, simplemente volvemos un paso atrás en el nivel de indentación.\n",
    "\n",
    "```\n",
    "if condicion:\n",
    "  blockCode1\n",
    "else:\n",
    "  blockCode2\n",
    "```\n",
    "En este caso, si la condición se cumple se ejecutará el bloque de código 1, y en caso contrario se ejecutará el bloque de código 2.\n",
    "\n",
    "Ejemplo: "
   ]
  },
  {
   "cell_type": "code",
   "execution_count": null,
   "metadata": {
    "id": "sk1Zfl3S0Lth"
   },
   "outputs": [],
   "source": [
    "#SI el resultado de la condicion es True, se ejecuta el bloque de código luego del IF, SINO se ejecuta el bloque de código luego del ELSE\n",
    "\n",
    "operacion = 1==2  \n",
    "\n",
    "if operacion:   #True o #False\n",
    "  print(\"es correcto\")\n",
    "else:\n",
    "  print(\"no es correcto\")\n",
    "\n",
    "\n",
    "#Observar identación y dos puntos"
   ]
  },
  {
   "cell_type": "code",
   "execution_count": null,
   "metadata": {
    "id": "Unl0APxD1Od2"
   },
   "outputs": [],
   "source": [
    "#SI el resultado de la condicion es True, se ejecuta el bloque de código luego del IF, SINO se ejecuta el bloque de código luego del ELSE\n",
    "\n",
    "num1 = 5\n",
    "num2 = 6\n",
    "\n",
    "if num1 >= num2:\n",
    "    print(num1, \"es mayor o igual a\", num2)\n",
    "else:\n",
    "    print(num1, \"es menor a\", num2)   "
   ]
  },
  {
   "cell_type": "code",
   "execution_count": null,
   "metadata": {
    "id": "uQO3X8emk1tO"
   },
   "outputs": [],
   "source": [
    "# Queremos ir al cine, pero solo podemos ir si el mismo está abierto, en caso contrario vemos la película en casa\n",
    "\n",
    "cine_esta_abierto = False\n",
    "\n",
    "if cine_esta_abierto:        #Si\n",
    "  print(\"Vemos una peli\")\n",
    "else:                        #Sino\n",
    "  print(\"Vemos una peli en casa\")"
   ]
  },
  {
   "cell_type": "markdown",
   "metadata": {
    "id": "8HTRIQfrmPWe"
   },
   "source": [
    "Por último, en el caso que tengamos varias condiciones relacionadas y queremos actuar dependiendo de cual se cumpla, podemos usar el comando _elif_ (Abreviación de else if, sino si en inglés).\n",
    "```\n",
    "if condicion1:\n",
    "  blockCode1\n",
    "elif condicion2:\n",
    "  blockCode2\n",
    "else:\n",
    "  blockCode3\n",
    "```\n",
    "En este caso si se cumple la condicion1 entonces se ejecuta el bloque de código 1, si se cumple la condicion2 entonces ejecuta el bloque de código 2, y en el caso que no se cumpla ninguna de las condiciones se ejecutará el bloque de código 3.\n",
    " \n",
    "Hay que tomar en consideración que el orden en el que se coloquen las condiciones importa, pues solo se ejecutara el bloque de código de la primera condición que se cumpla. Un _if_ puede tener tantos _elif_ como requiera, pero el _else_, en caso de que lo tenga, debe de ir siempre al final. \n",
    " \n",
    "Ejemplo: "
   ]
  },
  {
   "cell_type": "code",
   "execution_count": null,
   "metadata": {
    "id": "IKH1Emlb0rTz"
   },
   "outputs": [],
   "source": [
    "#SI el resultado de la condicion es True, se ejecuta el bloque de código luego del IF, SINO SI se resultado de segunda condición es True se ejecuta el bloque de código luego del ELIF\n",
    "#SINO se ejecuta el bloque de código luego de ELSE\n",
    "\n",
    "num1 = 6\n",
    "num2 = 7\n",
    "\n",
    "if num1 > num2:\n",
    "    print(num1, \"es mayor a\", num2)\n",
    "elif num1 == num2:\n",
    "    print(num1, \"es igual a\", num2)\n",
    "else:\n",
    "    print(num1, \"es menor a\", num2)   "
   ]
  },
  {
   "cell_type": "code",
   "execution_count": null,
   "metadata": {
    "id": "W7vy71JjlpMT"
   },
   "outputs": [],
   "source": [
    "# Queremos ir al cine o a tomar un café, pero solo podemos ir si alguno de estos está abierto, en caso contrario vemos la película en casa\n",
    "cine_esta_abierto = False\n",
    "bar_esta_abierto = False\n",
    "\n",
    "if cine_esta_abierto:            #Si\n",
    "  print(\"Vemos una peli\")\n",
    "elif bar_esta_abierto:           #Sino Si\n",
    "  print(\"Vamos a tomar un café\")\n",
    "else:                            #Sino\n",
    "  print(\"Vemos una peli en casa\")\n",
    "\n",
    "#Probar con distintos True / False"
   ]
  },
  {
   "cell_type": "code",
   "execution_count": null,
   "metadata": {
    "id": "RGKO_AQA0osW"
   },
   "outputs": [],
   "source": [
    "#Cambiamos el orden:\n",
    "\n",
    "cine_esta_abierto = False\n",
    "bar_esta_abierto = True\n",
    "\n",
    "if bar_esta_abierto:            #Si\n",
    "    print(\"Vamos a tomar un café\")\n",
    "elif cine_esta_abierto:           #Sino Si\n",
    "    print(\"Vemos una peli\")\n",
    "else:                            #Sino\n",
    "    print(\"Vemos una peli en casa\")\n",
    "\n",
    "#Probar con distintos True / False"
   ]
  },
  {
   "cell_type": "markdown",
   "metadata": {
    "id": "C1uuLuY3-HQu"
   },
   "source": [
    "Podemos incluir más de una condición.\n",
    "Si deben cumplirse las dos condicones se deben separar con \"AND\" o \"&\"\n",
    "Si solo debe cumplirse una condición (como mímino una) se debe separar con \"OR\" o \"|\""
   ]
  },
  {
   "cell_type": "code",
   "execution_count": null,
   "metadata": {
    "id": "BD_PLJ-4-fVo"
   },
   "outputs": [],
   "source": [
    "num1 = 7\n",
    "num2 = 6\n",
    "\n",
    "if num1 > num2 or num1 == num2:\n",
    "    print(num1, \"es mayor o igual a\", num2)\n",
    "else:\n",
    "    print(num1, \"es menor a\", num2)   \n",
    "\n"
   ]
  },
  {
   "cell_type": "code",
   "execution_count": null,
   "metadata": {
    "id": "NoFptbGB_90o"
   },
   "outputs": [],
   "source": [
    "cielo = \"lluvia\" #soledado\"\n",
    "temperatura = \"calor\" #calor\n",
    "\n",
    "if cielo==\"lluvia\" and temperatura==\"frio\":\n",
    "  print(\"llueve y hace frio\")\n",
    "elif cielo==\"lluvia\" and temperatura==\"calor\":\n",
    "  print(\"llueve pero hace calor\")\n",
    "else:\n",
    "  print(\"no llueve\")"
   ]
  },
  {
   "cell_type": "markdown",
   "metadata": {
    "id": "8B-S9X_Aoq7p"
   },
   "source": [
    "## Estructuras de control iterativas\n",
    " \n",
    "Las estructuras de control iterativas nos ayudan a ejecutar una misma sección de código varias veces, mientras se cumpla una condición o por cada valor de una lista de valores. Esto nos permite ejecutar el mismo bloque de código cambiando los valores en cada ejecución. \n",
    " \n",
    "### For\n",
    " \n",
    "Usaremos _for_ (para) para los casos en los que queremos ejecutar varias veces el mismo bloque de código para una lista de valores. \n",
    " \n",
    "El comando _for_ necesita de dos elementos: un objeto que pueda ser iterable, como una lista, y una variable auxiliar que será la que lleve el valor actual de la lista de valores, para esa ejecución en particular.\n",
    "```\n",
    "for i in list:\n",
    "  blockCode\n",
    "```\n",
    "En este caso, se ejecutará el bloque de código tantas veces como valores esten en la lista, sin embargo para cada iteración la variable auxiliar _i_ tendrá un valor diferente. \n",
    " \n",
    "Ejemplo:"
   ]
  },
  {
   "cell_type": "code",
   "execution_count": null,
   "metadata": {
    "colab": {
     "base_uri": "https://localhost:8080/"
    },
    "executionInfo": {
     "elapsed": 1072,
     "status": "ok",
     "timestamp": 1646407834875,
     "user": {
      "displayName": "Valeria Bellino",
      "photoUrl": "https://lh3.googleusercontent.com/a/default-user=s64",
      "userId": "05918551666787590515"
     },
     "user_tz": 180
    },
    "id": "Y65YqK8VnaAH",
    "outputId": "154d8ad5-cb3f-4848-e065-77c9f608869b"
   },
   "outputs": [],
   "source": [
    "# Si queremos saludar a una lista de amigos.\n",
    "amigues = [\"Matias\", \"Agus\", \"Nico\", \"Flor\"]\n",
    "\n",
    "for elemento in amigues:               #Para cada nombre en la lista amigues\n",
    "    print(\"Hola \" + elemento)"
   ]
  },
  {
   "cell_type": "markdown",
   "metadata": {
    "id": "j84l523-lSru"
   },
   "source": [
    "La iteración comienza con la variable _name_ tomando el primer valor de la lista. Usando este valor, se ejecuta el bloque de código conformado solamente por `print(\"Hola \" + name)`. Una vez finalizado el barrido sobre toda la lista, concluye la estructura de control iterativa _for_"
   ]
  },
  {
   "cell_type": "code",
   "execution_count": null,
   "metadata": {
    "id": "bb3BZQMe12Qh"
   },
   "outputs": [],
   "source": [
    "#for nombre in amigues  Para cada nombre en la lista de amigues\n",
    "#  print(\"Hola \" + nombre)\n",
    "\n",
    "nombre = \"Matias\"\n",
    "print(\"Hola\", nombre)\n",
    "nombre = \"Agus\"\n",
    "print(\"Hola\", nombre)\n",
    "nombre = \"Nico\"\n",
    "print(\"Hola\", nombre)\n",
    "nombre = \"Flor\"\n",
    "print(\"Hola\", nombre)"
   ]
  },
  {
   "cell_type": "code",
   "execution_count": null,
   "metadata": {
    "id": "p0Ii4ZfRA42l"
   },
   "outputs": [],
   "source": [
    "lista =[3,2,5,4,10]\n",
    "resultado = 0\n",
    "\n",
    "for num in lista:\n",
    "    resultado = resultado+num"
   ]
  },
  {
   "cell_type": "code",
   "execution_count": null,
   "metadata": {
    "id": "p0Ii4ZfRA42l"
   },
   "outputs": [],
   "source": [
    "    \n",
    "print(resultado)\n",
    "\n",
    "# resultado +3 print\n",
    "# resultado +2 pint"
   ]
  },
  {
   "cell_type": "code",
   "execution_count": null,
   "metadata": {
    "id": "e8ZEUJqRBMWJ"
   },
   "outputs": [],
   "source": [
    "#ver cambio de identación\n",
    "\n",
    "lista =[3,2]\n",
    "resultado = 0\n",
    "\n",
    "for num in lista:\n",
    "    resultado = resultado+num\n",
    "print(resultado)\n",
    "\n",
    "# resultado +3\n",
    "# resultado +2 print"
   ]
  },
  {
   "cell_type": "code",
   "execution_count": null,
   "metadata": {},
   "outputs": [],
   "source": [
    "lista_nombre = [\"Maria\", \"Juan\", \"Jose\", \"Ana\"]\n",
    "\n",
    "len(lista_nombre)"
   ]
  },
  {
   "cell_type": "code",
   "execution_count": null,
   "metadata": {
    "id": "dylS5MDNkzWg"
   },
   "outputs": [],
   "source": [
    "contador = 0\n",
    "\n",
    "lista_nombre = [\"Maria\", \"Juan\", \"Jose\", \"Ana\"]\n",
    "\n",
    "for i in lista_nombre:\n",
    "    contador = contador + 1        #igual que poner contador = contador + 1\n",
    "\n",
    "contador"
   ]
  },
  {
   "cell_type": "markdown",
   "metadata": {
    "id": "jx0qzAi-Ne6S"
   },
   "source": [
    "# Funciones\n",
    " \n",
    "Es común que a lo largo de un proyecto usemos una misma sección de código, o alguna sección muy similar con algunos cambios, en estos casos suele ser muy útil crear una función que ejecute esa sección. \n",
    " \n",
    "Con las funciones, evitamos repetir escribir código a lo largo del proyecto, por lo que el mismo queda mucho más limpio y organizado, el uso de estas también permite modularizar el proyecto, permitiendo generar variantes del mismo y adaptarlo a futuros cambios.  \n",
    " \n",
    "En conclusión, las funciones son segmentos de código pequeños, enfocados en resolver un problema lo más específico posible. En python podemos crear nuestras propias funciones usando la siguiente sintaxis.\n",
    " \n",
    "```\n",
    "def nombreFuncion(parametro_1, parametro_2, ..., parametro_n):\n",
    "  Line1\n",
    "  Line2\n",
    "  ...\n",
    "  return variable\n",
    "```\n",
    " \n",
    "De esta forma se declara una función, la misma puede tener tantos parámetros como se requiera, así como puede contener tantas líneas de código como sean necesarias.\n",
    " \n",
    "Por último, está la sentencia `return` la cual se usa para devolver la, o las, variables que genere la función. La misma no es obligatoria (podríamos tener una función que no devuelva ninguna variable).\n",
    " "
   ]
  },
  {
   "cell_type": "code",
   "execution_count": null,
   "metadata": {
    "id": "D6gRsIHaUtbW"
   },
   "outputs": [],
   "source": [
    "# Se define el nombre de la función (suma)\n",
    "# Se definen parámetros (num1, num2)\n",
    "# se define el bloque de código que se ejecutará \n",
    "# return lo que la función debe devolver\n",
    "\n",
    "def funcion_suma(num1, num2):\n",
    "    sumado = num1+num2\n",
    "    return sumado"
   ]
  },
  {
   "cell_type": "code",
   "execution_count": null,
   "metadata": {
    "id": "m7OrUYAy8Rkp"
   },
   "outputs": [],
   "source": [
    "# Se corre la función creada poniendo el nombre y definiendo los parámetros\n",
    "\n",
    "funcion_suma(3,2)"
   ]
  },
  {
   "cell_type": "code",
   "execution_count": null,
   "metadata": {
    "id": "Vlb1xD1k8HWz"
   },
   "outputs": [],
   "source": [
    "# Se corre la función poniendo el nombre y cambiando los parámetros\n",
    "\n",
    "funcion_suma(1,20)"
   ]
  },
  {
   "cell_type": "code",
   "execution_count": null,
   "metadata": {
    "id": "9gF003cu8_pI"
   },
   "outputs": [],
   "source": [
    "#puede cerrar con print en vez de return\n",
    "\n",
    "def resta(num1,num2):\n",
    "    print(num1-num2)  "
   ]
  },
  {
   "cell_type": "code",
   "execution_count": null,
   "metadata": {
    "id": "t5XdDPOy9LZM"
   },
   "outputs": [],
   "source": [
    "# Se corre la función definiendo los parámetros\n",
    "\n",
    "resta(3,2)"
   ]
  },
  {
   "cell_type": "markdown",
   "metadata": {
    "id": "cCWp2RIE9VdR"
   },
   "source": [
    "Es posible incorporar dentro de un mismo código distintas estructuras de contorl"
   ]
  },
  {
   "cell_type": "code",
   "execution_count": null,
   "metadata": {
    "id": "hpggKaUJk5hb"
   },
   "outputs": [],
   "source": [
    "#combinar función con iteración\n",
    "\n",
    "def contador(lista):\n",
    "    contar = 0\n",
    "    for i in lista:\n",
    "        contar+=1\n",
    "    return contar"
   ]
  },
  {
   "cell_type": "code",
   "execution_count": null,
   "metadata": {
    "id": "X7jeDd-4k7sH"
   },
   "outputs": [],
   "source": [
    "contador([\"Buenos Aires\", \"Santa Fe\", \"Cordoba\", \"La Pampa\"])"
   ]
  },
  {
   "cell_type": "code",
   "execution_count": null,
   "metadata": {
    "id": "F7RcQFdCk9mu"
   },
   "outputs": [],
   "source": [
    "lista_muebles = [\"cama\",\"sillon\", \"mesa\", \"sillas\", \"lampara\", \"escritorio\"]\n",
    "\n",
    "contador(lista_muebles)"
   ]
  },
  {
   "cell_type": "code",
   "execution_count": null,
   "metadata": {
    "id": "tMRl0lUjk_WZ"
   },
   "outputs": [],
   "source": [
    "lista_valores = [1,5,7,5,64,15,74,95,54,45]\n",
    "\n",
    "contador(lista_valores)"
   ]
  },
  {
   "cell_type": "code",
   "execution_count": null,
   "metadata": {
    "id": "e2qRzGci82CJ"
   },
   "outputs": [],
   "source": [
    "#Definimos una función (calculadora) que toma 3 parametros: número1, número 2 y la operación\n",
    "#dentro de la función hay una estructura condicional, depende la operación el bloque de código que se ejecuta\n",
    "\n",
    "def calculadora(num1, num2, operation):\n",
    "    if operation == \"suma\":\n",
    "        return num1 + num2\n",
    "\n",
    "    elif operation == \"resta\":\n",
    "        return num1 - num2\n",
    "\n",
    "    elif operation == \"multiplicación\":\n",
    "        return num1 * num2\n",
    "\n",
    "    elif operation == \"división\" and num2 != 0:\n",
    "        return num1 / num2\n",
    "\n",
    "    else:\n",
    "        print(\"Operación no valida\")\n",
    "\n",
    "    return #cierra la función, en este caso puede no estar porque lo cierra el print()\n",
    "\n",
    "# Notar la identación"
   ]
  },
  {
   "cell_type": "code",
   "execution_count": null,
   "metadata": {
    "id": "bwEI8Fc59osT"
   },
   "outputs": [],
   "source": [
    "calculadora(1,1,\"suma\")"
   ]
  },
  {
   "cell_type": "code",
   "execution_count": null,
   "metadata": {
    "id": "HFXqLQzJ9ovE"
   },
   "outputs": [],
   "source": [
    "calculadora(4,6,\"resta\")"
   ]
  },
  {
   "cell_type": "code",
   "execution_count": null,
   "metadata": {
    "id": "CpROTST29oxw"
   },
   "outputs": [],
   "source": [
    "calculadora(8,9,\"multiplicación\")"
   ]
  },
  {
   "cell_type": "code",
   "execution_count": null,
   "metadata": {
    "id": "E7GxFL2F9o0b"
   },
   "outputs": [],
   "source": [
    "calculadora(8,6,\"división\")"
   ]
  },
  {
   "cell_type": "code",
   "execution_count": null,
   "metadata": {
    "id": "XDghJ6gw9o39"
   },
   "outputs": [],
   "source": [
    "#Observar las dos condiciones en la división. AND obliga a que las dos condiciones se cumplan\n",
    "\n",
    "calculadora(2,0,\"división\")"
   ]
  },
  {
   "cell_type": "code",
   "execution_count": null,
   "metadata": {
    "id": "J1IkSn3896FO"
   },
   "outputs": [],
   "source": [
    "calculadora(1,1,\"hola mundo!\")"
   ]
  },
  {
   "cell_type": "markdown",
   "metadata": {},
   "source": [
    "### Desafío 2 - Estructuras de Control\n",
    "\n",
    "1. Definir 2 variables con números (num1 y num2). Crear una estructura condicional donde si los dos números son iguales se imprima \"los dos números son iguales\" (*if... else...*)\n",
    "\n",
    "2. Crear una estructura condicional donde si \"no llueve\", \"podemos ir a la plaza\" y sino \"debemos quedarnos en casa\" (*if... else...*)\n",
    "\n",
    "3. Definir una lista con 3 números. Crear una estructura iterativa donde se imprima cada número +2 (*for... in...*)\n",
    "\n",
    "4. Crear una función que dado 2 números (parámetros), imprima el resultado de dividir el primer nùmero por el segundo (*def*)\n",
    "\n",
    "5. Crea una función que reciba 2 números e incluya un condicional donde si el segundo número es 0 imprima \"no se puede realizar esta operación\" y sino realice una división entre el primer y el segundo número. "
   ]
  }
 ],
 "metadata": {
  "colab": {
   "collapsed_sections": [],
   "name": "Estructuras de control.ipynb",
   "provenance": []
  },
  "kernelspec": {
   "display_name": "Python 3",
   "language": "python",
   "name": "python3"
  },
  "language_info": {
   "codemirror_mode": {
    "name": "ipython",
    "version": 3
   },
   "file_extension": ".py",
   "mimetype": "text/x-python",
   "name": "python",
   "nbconvert_exporter": "python",
   "pygments_lexer": "ipython3",
   "version": "3.7.10"
  }
 },
 "nbformat": 4,
 "nbformat_minor": 4
}
