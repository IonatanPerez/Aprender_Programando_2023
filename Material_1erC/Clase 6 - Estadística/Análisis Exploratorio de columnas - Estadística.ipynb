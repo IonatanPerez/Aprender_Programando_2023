{
 "cells": [
  {
   "cell_type": "markdown",
   "id": "satellite-nepal",
   "metadata": {
    "id": "equal-officer"
   },
   "source": [
    "## Exploración del dataset y Estadística\n",
    "\n",
    "En esta clase vamos a realizar una exploración más específica sobre las columnas del Dataset del Arbolado de la Ciudad de Buenos Aires coon el que venimos trabajando y observar los valores estadísticos que estuvimos revisando en la clase.\n"
   ]
  },
  {
   "cell_type": "code",
   "execution_count": null,
   "id": "standing-exploration",
   "metadata": {
    "id": "altered-exemption"
   },
   "outputs": [],
   "source": [
    "#importamos las librerias que utilizaremos\n",
    "\n",
    "import pandas as pd\n",
    "import matplotlib.pyplot as plt  \n",
    "import seaborn as sns"
   ]
  },
  {
   "cell_type": "code",
   "execution_count": null,
   "id": "automated-information",
   "metadata": {},
   "outputs": [],
   "source": [
    "data = pd.read_csv(\"https://cdn.buenosaires.gob.ar/datosabiertos/datasets/arbolado-publico-lineal/arbolado-publico-lineal-2017-2018.csv\")\n",
    "data.head()"
   ]
  },
  {
   "cell_type": "code",
   "execution_count": null,
   "id": "royal-summit",
   "metadata": {
    "colab": {
     "base_uri": "https://localhost:8080/"
    },
    "executionInfo": {
     "elapsed": 15,
     "status": "ok",
     "timestamp": 1646446639756,
     "user": {
      "displayName": "Valeria Bellino",
      "photoUrl": "https://lh3.googleusercontent.com/a/default-user=s64",
      "userId": "05918551666787590515"
     },
     "user_tz": 180
    },
    "id": "natural-thong",
    "outputId": "78b97338-a3e1-471d-c483-705d64ddbae9"
   },
   "outputs": [],
   "source": [
    "# Vemos los tipos de datos\n",
    "\n",
    "data.dtypes"
   ]
  },
  {
   "cell_type": "markdown",
   "id": "professional-facility",
   "metadata": {
    "id": "accredited-greene"
   },
   "source": [
    "## Variables numéricas\n",
    "\n",
    "Para observar la distribución de las **variables numéricas** podemos utilizar el método *describe* que muestra de cada columna:\n",
    "\n",
    "* **_count_**: Cantidad de datos, esto es muy útil para saber cuáles columnas tienen datos nulos y cuantos. \n",
    "* **_mean_**: La media aritmetica de los datos, o promedio, se calcula como la suma de todos los datos dividido la cantidad de datos sumados. \n",
    "* **_std_**: Desviación standard, es una medida de que tan dispersos están los datos o que tanta variedad hay en los mismos.\n",
    "* **_min_**: El valor mínimo encontrado en los datos.\n",
    "* **_25%_**: Llamado primer cuartil, representa el número tal que el 25% de los datos es menor a el.\n",
    "* **_50%_**: Llamado segundo cuartil o mediana, representa el número tal que el 50% de los datos es menor a el. \n",
    "* **_75%_**: Llamado tercer cuartil, representa el número tal que el 75% de los datos es menor a el. \n",
    "* **_max_**: El valor máximo encontrado en los datos. \n",
    " \n",
    "Es importante tener en cuenta que *comuna* está interpretada como una variable numérica dado que son número pero en realidad cada número representa una categoría y no existe una relación numérica entre ellas por lo tanto en realiad es una variable categórica y no tiene sentido realizar un análisis estadístico (solo la moda).\n"
   ]
  },
  {
   "cell_type": "code",
   "execution_count": null,
   "id": "better-balloon",
   "metadata": {
    "colab": {
     "base_uri": "https://localhost:8080/",
     "height": 300
    },
    "executionInfo": {
     "elapsed": 12,
     "status": "ok",
     "timestamp": 1646446639757,
     "user": {
      "displayName": "Valeria Bellino",
      "photoUrl": "https://lh3.googleusercontent.com/a/default-user=s64",
      "userId": "05918551666787590515"
     },
     "user_tz": 180
    },
    "id": "sonic-juice",
    "outputId": "ad00e0b5-598d-43af-8747-e05daea36f42"
   },
   "outputs": [],
   "source": [
    "data.describe()\n"
   ]
  },
  {
   "cell_type": "markdown",
   "id": "contemporary-pharmaceutical",
   "metadata": {
    "id": "olive-cattle"
   },
   "source": [
    "#### Media Mediana y Moda\n",
    "\n",
    "* Mediana (_median_): La mediana es el valor que separa la proporción de datos a la mitad, es decir, el 50% de los datos son mayores a este valor y el otro 50% es menor.\n",
    "* 1er Cuartil (_Q1_): Es el valor que separa a los datos tal que, 25% de los datos son menores a este valor, y el 75% superioe son superiores.\n",
    "* 3er Cuartil (_Q1_): Es el valor que separa a los datos tal que, 75% de los datos son menores a este valor, y el 25% restante son superiores.\n",
    "* Rango intercuartil (_IRQ_): Es el rango entre el primer cuartil y el tercer cuartil, dentro de este rango se tienen el 50% de los datos. \n",
    "- Media: el promedio de una variable numérica\n",
    "\n",
    "- Mediana: ordenando los valores que toma una variable de menor a mayor, el valor del registro diviendo la cantidad de datos en 2\n",
    "\n",
    "- Moda: el valor que más se repite\n",
    "\n",
    "- Quartiles: ordenando los valores que toma una variable de menor a mayor dividiendo la cantidad de datos en 4\n",
    "\n",
    "- Valores atípicos\n",
    "\n",
    "Ver [video](https://www.youtube.com/watch?v=R2U3apzVB9E&list=PLsJNGBlgMnSzKQIOVOQSgFAtu0XXZ8QZl&index=36)\n",
    "\n",
    "#### Columna *altura_arbol*\n",
    "Vamos a ver estos valores en la columna *altura_arbol* y realizar 2 gráficos: un [hisograma](https://seaborn.pydata.org/generated/seaborn.histplot.html) para ver la distribución de la variables y un [boxplot](https://seaborn.pydata.org/generated/seaborn.boxplot.html?highlight=boxplot#seaborn.boxplot) que también sirven para observar la distribución y también nos presentan información agregada, como lo es la media, los cuartiles y los bigotes o límites mínimos y máximos en un simple gráfico."
   ]
  },
  {
   "cell_type": "code",
   "execution_count": null,
   "id": "celtic-round",
   "metadata": {},
   "outputs": [],
   "source": [
    "# media\n",
    "\n",
    "data[\"altura_arbol\"].mean()"
   ]
  },
  {
   "cell_type": "code",
   "execution_count": null,
   "id": "boolean-stack",
   "metadata": {},
   "outputs": [],
   "source": [
    "# mediana\n",
    "\n",
    "data[\"altura_arbol\"].median()"
   ]
  },
  {
   "cell_type": "code",
   "execution_count": null,
   "id": "associate-bench",
   "metadata": {},
   "outputs": [],
   "source": [
    "# moda\n",
    "\n",
    "data[\"altura_arbol\"].mode()"
   ]
  },
  {
   "cell_type": "code",
   "execution_count": null,
   "id": "disciplinary-exhaust",
   "metadata": {},
   "outputs": [],
   "source": [
    "# desvío estandar\n",
    "\n",
    "data[\"altura_arbol\"].std()"
   ]
  },
  {
   "cell_type": "code",
   "execution_count": null,
   "id": "comic-weekly",
   "metadata": {},
   "outputs": [],
   "source": [
    "#sns.histplot(data=data, x=\"altura_arbol\")\n",
    "\n",
    "#sns.displot(data=data, x=\"altura_arbol\")\n",
    "\n",
    "sns.distplot(data[\"altura_arbol\"])\n"
   ]
  },
  {
   "cell_type": "code",
   "execution_count": null,
   "id": "european-destination",
   "metadata": {},
   "outputs": [],
   "source": [
    "sns.boxplot(x=data[\"altura_arbol\"])"
   ]
  },
  {
   "cell_type": "markdown",
   "id": "popular-diving",
   "metadata": {
    "id": "olive-cattle"
   },
   "source": [
    "#### Columna *diametro_altura_pecho*\n"
   ]
  },
  {
   "cell_type": "code",
   "execution_count": null,
   "id": "medium-auckland",
   "metadata": {
    "colab": {
     "base_uri": "https://localhost:8080/"
    },
    "executionInfo": {
     "elapsed": 485,
     "status": "ok",
     "timestamp": 1646446640945,
     "user": {
      "displayName": "Valeria Bellino",
      "photoUrl": "https://lh3.googleusercontent.com/a/default-user=s64",
      "userId": "05918551666787590515"
     },
     "user_tz": 180
    },
    "id": "paperback-mediterranean",
    "outputId": "b3ca6fb9-9121-44cd-d2c0-059f5e5eab3a"
   },
   "outputs": [],
   "source": [
    "data[\"diametro_altura_pecho\"].min()"
   ]
  },
  {
   "cell_type": "code",
   "execution_count": null,
   "id": "detected-resistance",
   "metadata": {
    "colab": {
     "base_uri": "https://localhost:8080/"
    },
    "executionInfo": {
     "elapsed": 30,
     "status": "ok",
     "timestamp": 1646446640946,
     "user": {
      "displayName": "Valeria Bellino",
      "photoUrl": "https://lh3.googleusercontent.com/a/default-user=s64",
      "userId": "05918551666787590515"
     },
     "user_tz": 180
    },
    "id": "exciting-karen",
    "outputId": "2b1330ae-a8ef-4b7e-f654-8f10b710d5b8"
   },
   "outputs": [],
   "source": [
    "data[\"diametro_altura_pecho\"].max()"
   ]
  },
  {
   "cell_type": "code",
   "execution_count": null,
   "id": "short-documentary",
   "metadata": {
    "colab": {
     "base_uri": "https://localhost:8080/"
    },
    "executionInfo": {
     "elapsed": 29,
     "status": "ok",
     "timestamp": 1646446640947,
     "user": {
      "displayName": "Valeria Bellino",
      "photoUrl": "https://lh3.googleusercontent.com/a/default-user=s64",
      "userId": "05918551666787590515"
     },
     "user_tz": 180
    },
    "id": "instant-sector",
    "outputId": "c7147b06-7b98-4075-99e4-3b54d7a289f2"
   },
   "outputs": [],
   "source": [
    "data[\"diametro_altura_pecho\"].mean()"
   ]
  },
  {
   "cell_type": "code",
   "execution_count": null,
   "id": "african-scratch",
   "metadata": {},
   "outputs": [],
   "source": [
    "data[\"diametro_altura_pecho\"].median()"
   ]
  },
  {
   "cell_type": "code",
   "execution_count": null,
   "id": "latin-ecology",
   "metadata": {},
   "outputs": [],
   "source": [
    "data[\"diametro_altura_pecho\"].std()"
   ]
  },
  {
   "cell_type": "code",
   "execution_count": null,
   "id": "suitable-cargo",
   "metadata": {},
   "outputs": [],
   "source": [
    "#sns.histplot(data=data, x=\"diametro_altura_pecho\", kde=True)\n",
    "\n",
    "#sns.displot(data=data, x=\"diametro_altura_pecho\")\n",
    "\n",
    "sns.distplot(data[\"diametro_altura_pecho\"], kde=False)"
   ]
  },
  {
   "cell_type": "code",
   "execution_count": null,
   "id": "caroline-leeds",
   "metadata": {
    "colab": {
     "base_uri": "https://localhost:8080/"
    },
    "executionInfo": {
     "elapsed": 29,
     "status": "ok",
     "timestamp": 1646446640948,
     "user": {
      "displayName": "Valeria Bellino",
      "photoUrl": "https://lh3.googleusercontent.com/a/default-user=s64",
      "userId": "05918551666787590515"
     },
     "user_tz": 180
    },
    "id": "circular-wayne",
    "outputId": "f370b0cc-3421-4aa4-dc1e-b3f812dd3d9d"
   },
   "outputs": [],
   "source": [
    "# Vamos a hacer uno por cada comuna y cambiamos los colores, vamos a agrandar el gráfico para que se vea mejor.\n",
    "\n",
    "plt.figure(figsize=(10, 5))\n",
    "sns.boxplot(y=data[\"diametro_altura_pecho\"], x=data[\"comuna\"], palette=[\"m\", \"g\"])\n"
   ]
  },
  {
   "cell_type": "markdown",
   "id": "careful-tourist",
   "metadata": {
    "id": "tutorial-liability"
   },
   "source": [
    "### Relación entre variables \n",
    " \n",
    "Es importante analizar qué tan relacionadas están las variables con las que se está trabajando, esto es, analizar si se tiene información repetida o variables que representan practicamente lo mismo. \n",
    "\n",
    "Para esto existe un índice llamado correlación. \n",
    " \n",
    "El índice de correlación es un valor entre -1 y 1 con las siguiente caracteristicas: \n",
    "* Cuando la correlación entre dos variables está cerca de 1 significa que las variables están relacionadas de forma lineal y positiva. Esto significa que cuando una variable crece o decrece la otra también lo hace. \n",
    "* Cuando la correlación está cerca de -1 significa que las variables están relacionadas de forma lineal y negativa. Esto significa que cuando una variable crece o decrece, la otra hace lo opuesto.\n",
    "* Si la correlación es cercana a 0 significa que no hay relación lineal entre el comportamiento de ambas variables.  \n",
    "* La correlación solo mide relaciones lineales, puede que las variables tengan algún otro tipo de relación, por ejemplo si $Y = X^2$ la correlación dara cercana a 0, sin embargo, $Y$ esta claramente relacionada a $X$.\n",
    "* Cuando la correlación entre dos variables es cercana a 1 o a -1 se dice que estan altamente correlacionadas. \n",
    " \n",
    "Es importante resaltar, que una alta correlación (sea positiva o negativa) no implica causalidad, es decir, que dos variables estén altamente correlacionadas no significa que el movimiento de una se debió al movimiento de la otra. \n",
    "\n",
    " \n",
    "Vamos a utilizar el método *corr()* que permite observar la correlación entre variables numéricas. La salida es lo que llamamos matriz de correlaciones. Esta es una matriz triangular, es decir, los valores sobre la diagonal son iguales a los encontrados bajo la diagonal de la matriz.\n",
    "Además utilizaremos un gráfico [heatmap](https://seaborn.pydata.org/generated/seaborn.heatmap.html?highlight=heatmap#seaborn.heatmap) para visualizarlo mejor."
   ]
  },
  {
   "cell_type": "code",
   "execution_count": null,
   "id": "comparable-preparation",
   "metadata": {
    "colab": {
     "base_uri": "https://localhost:8080/"
    },
    "executionInfo": {
     "elapsed": 11,
     "status": "ok",
     "timestamp": 1646446639757,
     "user": {
      "displayName": "Valeria Bellino",
      "photoUrl": "https://lh3.googleusercontent.com/a/default-user=s64",
      "userId": "05918551666787590515"
     },
     "user_tz": 180
    },
    "id": "allied-porcelain",
    "outputId": "37149a1a-f863-4487-9022-6af3d9369ca4"
   },
   "outputs": [],
   "source": [
    "data.corr()\n",
    "\n",
    "# Es importante notar que \"long\", \"lat\" y \"comuna\" son variables numéricas pero en este caso no aporta mucho el método corr()\n",
    "#ya que los número de las comunas no significan su valor numérico sino son en realidad nominales"
   ]
  },
  {
   "cell_type": "code",
   "execution_count": null,
   "id": "reported-compatibility",
   "metadata": {},
   "outputs": [],
   "source": [
    "sns.heatmap(data.corr())\n",
    "\n",
    "#sns.heatmap(data.corr(), annot=True)"
   ]
  },
  {
   "cell_type": "markdown",
   "id": "prompt-alarm",
   "metadata": {
    "id": "systematic-supervisor"
   },
   "source": [
    "## Variables categóricas\n",
    "\n",
    "#### Columna *nombre_cientifico*\n",
    "\n",
    "Ahora analizaremos la variable \"nombre_cientifico\" que ya hemos visto que es un tipo de dato \"object\", vamos a ver cuánta cantidad de registros hay de cada valor (de cada tipo de árbol) y de esta manera podemos conocer la *moda*"
   ]
  },
  {
   "cell_type": "code",
   "execution_count": null,
   "id": "superb-nylon",
   "metadata": {
    "colab": {
     "base_uri": "https://localhost:8080/"
    },
    "executionInfo": {
     "elapsed": 26,
     "status": "ok",
     "timestamp": 1646446640949,
     "user": {
      "displayName": "Valeria Bellino",
      "photoUrl": "https://lh3.googleusercontent.com/a/default-user=s64",
      "userId": "05918551666787590515"
     },
     "user_tz": 180
    },
    "id": "civilian-dependence",
    "outputId": "f12df500-bc4b-4dd2-8ee1-68abc30719c5"
   },
   "outputs": [],
   "source": [
    "data[\"nombre_cientifico\"].value_counts()"
   ]
  },
  {
   "cell_type": "code",
   "execution_count": null,
   "id": "fantastic-recognition",
   "metadata": {},
   "outputs": [],
   "source": [
    "# Si queremos realizar un gráfico\n",
    "\n",
    "sns.countplot(data[\"nombre_cientifico\"])"
   ]
  },
  {
   "cell_type": "markdown",
   "id": "hired-variance",
   "metadata": {},
   "source": [
    "Este gráfico se ve mal por la gran cantidad de registros que tiene, vamos a hacer un recorte de nuestro DataFrame seleccionando los 20 tipos de árboles que más cantidad hay."
   ]
  },
  {
   "cell_type": "code",
   "execution_count": null,
   "id": "foreign-chorus",
   "metadata": {
    "colab": {
     "base_uri": "https://localhost:8080/",
     "height": 354
    },
    "executionInfo": {
     "elapsed": 24,
     "status": "ok",
     "timestamp": 1646446640950,
     "user": {
      "displayName": "Valeria Bellino",
      "photoUrl": "https://lh3.googleusercontent.com/a/default-user=s64",
      "userId": "05918551666787590515"
     },
     "user_tz": 180
    },
    "id": "stainless-killer",
    "outputId": "d3231b2a-25d0-4fe1-83b2-da0dadb91105"
   },
   "outputs": [],
   "source": [
    "# Vamos a ver el top 20 de arboles \n",
    "\n",
    "data[\"nombre_cientifico\"].value_counts()[:21]"
   ]
  },
  {
   "cell_type": "code",
   "execution_count": null,
   "id": "under-thunder",
   "metadata": {},
   "outputs": [],
   "source": [
    "# Podemos realizar un gráfico de countplot solo con estos tipos de arboles\n",
    "\n",
    "# Primero debemos generar un nuevo dataset filtrando estos datos y luego realizar el gráfico \n",
    "\n",
    "data_grafico = data[\"nombre_cientifico\"].value_counts()[:21]\n",
    "\n",
    "data_grafico.index"
   ]
  },
  {
   "cell_type": "code",
   "execution_count": null,
   "id": "distinguished-notification",
   "metadata": {},
   "outputs": [],
   "source": [
    "sns.barplot(\n",
    "    x = data_grafico, # El parámetro x representa lo que queremos gráficar en este eje, la cantidad de repeticiones de la especie \n",
    "    y = data_grafico.index  # El parámetro y representa lo que queremos gráficar en este eje, cada una de las especies. \n",
    ")"
   ]
  },
  {
   "cell_type": "markdown",
   "id": "gothic-computer",
   "metadata": {},
   "source": [
    "### Desafío 6: Buscar Datasets\n",
    "\n",
    "El objetivo es ponerse en grupos y buscar dataset que sean de su interés para poder realizar un análisis. Puede ser de cualquier tema que les interese que puedan contar con Datos. Les recordamos el Documento de Google con sitios donde pueden buscar datasets, es un Documento colaborativo entre todas las comisiones de Datos asì que pueden agregar: [Dataset](https://docs.google.com/document/d/1EnimkrV_a9cu-ZrrcydZnigquQeGSpUsnqu0BA3fUFE/edit?usp=sharing!)"
   ]
  }
 ],
 "metadata": {
  "colab": {
   "name": "EDA - Análisis Exploratorio de Datos.ipynb",
   "provenance": []
  },
  "kernelspec": {
   "display_name": "Python 3",
   "language": "python",
   "name": "python3"
  },
  "language_info": {
   "codemirror_mode": {
    "name": "ipython",
    "version": 3
   },
   "file_extension": ".py",
   "mimetype": "text/x-python",
   "name": "python",
   "nbconvert_exporter": "python",
   "pygments_lexer": "ipython3",
   "version": "3.7.10"
  }
 },
 "nbformat": 4,
 "nbformat_minor": 5
}
