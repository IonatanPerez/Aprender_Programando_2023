{
 "cells": [
  {
   "cell_type": "markdown",
   "id": "compact-allowance",
   "metadata": {
    "id": "neither-theorem"
   },
   "source": [
    "## Filtrar Dataset\n",
    "\n",
    "Hoy aprenderemos a filtrar un dataset y realizar agrupaciones con métodos de la librería de pandas.\n",
    "\n",
    "Retomaremos el dataset utilizado la clase anterior sobre el Abrbolado de la Ciudad de Buenos Aires extraído de https://data.buenosaires.gob.ar/dataset/arbolado-publico-lineal. Recuerden que cada fila de este dataset representa UN Árbol\n"
   ]
  },
  {
   "cell_type": "code",
   "execution_count": null,
   "id": "metropolitan-master",
   "metadata": {
    "id": "collaborative-order"
   },
   "outputs": [],
   "source": [
    "#importamos las librerias que utilizaremos\n",
    "import pandas as pd"
   ]
  },
  {
   "cell_type": "code",
   "execution_count": null,
   "id": "fifty-lesbian",
   "metadata": {
    "id": "collaborative-order"
   },
   "outputs": [],
   "source": [
    "data = pd.read_csv(\"https://cdn.buenosaires.gob.ar/datosabiertos/datasets/arbolado-publico-lineal/arbolado-publico-lineal-2017-2018.csv\")\n",
    "data"
   ]
  },
  {
   "cell_type": "markdown",
   "id": "blessed-means",
   "metadata": {
    "id": "bGuxWKEa5FmX"
   },
   "source": [
    "### Filtrar un dataset\n",
    "\n",
    "#### .iloc\n",
    "\n",
    "Para acceder a determinadas columnas, filas o registros de un dataset es posible indexarlos por número de fila y número de columna a través del método *.iloc* y entre corchetes separado por una coma primero las filas y luego las columnas.\n",
    "\n",
    "Además es posible utilizar un *slice*, es decir, seleccionar filas o columnas  donde se indique desde y hasta cual. Para eso se coloca un valor, dos puntos y el segundo valor, siendo **el primero inclusivo y el último no inclusivo**.\n",
    "\n",
    "Para seleccionar todas las filas o todas las columnas debo colocar hacer un slice sin límite, es decir solo : (dos puntos)"
   ]
  },
  {
   "cell_type": "code",
   "execution_count": null,
   "id": "internal-merchant",
   "metadata": {
    "id": "kfEMUC_y6FtY"
   },
   "outputs": [],
   "source": [
    "data.head()"
   ]
  },
  {
   "cell_type": "code",
   "execution_count": null,
   "id": "social-sugar",
   "metadata": {
    "id": "lovely-better"
   },
   "outputs": [],
   "source": [
    "# iloc: acceso por número de fila, columna\n",
    "data.iloc[1,3]"
   ]
  },
  {
   "cell_type": "code",
   "execution_count": null,
   "id": "satisfied-mainstream",
   "metadata": {
    "id": "cardiovascular-surrey"
   },
   "outputs": [],
   "source": [
    "# slice entre fila 1 a 4 (no inclusivo), columa 3\n",
    "data.iloc[1:4, 3]"
   ]
  },
  {
   "cell_type": "code",
   "execution_count": null,
   "id": "other-camera",
   "metadata": {
    "id": "Na3IcAUL7GVl"
   },
   "outputs": [],
   "source": [
    "# Fila 4 y todas sus columnas  (si no se coloca nada se asume que son todas las columnas)\n",
    "\n",
    "data.iloc[4, :]"
   ]
  },
  {
   "cell_type": "code",
   "execution_count": null,
   "id": "structural-equipment",
   "metadata": {
    "id": "Fha2vRUF7P7z"
   },
   "outputs": [],
   "source": [
    "# Para filtrar toda una columna se debe colocar : en lugar de las filas\n",
    "\n",
    "data.iloc[:, 2]"
   ]
  },
  {
   "cell_type": "markdown",
   "id": "running-warner",
   "metadata": {
    "id": "LUWiQHXa6Th3"
   },
   "source": [
    "#### .loc\n",
    "Es posible filtrar por columnas, filas o registros utilizando el nombre de las columnas utilizando el método *.loc* y entre corchetes primero las filas y luego las columnas"
   ]
  },
  {
   "cell_type": "code",
   "execution_count": null,
   "id": "confident-ceremony",
   "metadata": {},
   "outputs": [],
   "source": [
    "data"
   ]
  },
  {
   "cell_type": "code",
   "execution_count": null,
   "id": "polished-shakespeare",
   "metadata": {
    "id": "developmental-speech"
   },
   "outputs": [],
   "source": [
    "# fila 1, columa \"nombre_cientifico\"\n",
    "\n",
    "data.loc[1,\"nombre_cientifico\"]"
   ]
  },
  {
   "cell_type": "code",
   "execution_count": null,
   "id": "curious-oxford",
   "metadata": {
    "id": "xeTC9YR17t6C"
   },
   "outputs": [],
   "source": [
    "# Para ver todos los registros de una columna se debe indicar : en el lugar de las filas\n",
    "\n",
    "data.loc[:, \"nombre_cientifico\"]"
   ]
  },
  {
   "cell_type": "code",
   "execution_count": null,
   "id": "satellite-church",
   "metadata": {
    "id": "WGJ3Qb7Y73aq"
   },
   "outputs": [],
   "source": [
    " # Se puede seleccionar una lista de columnas\n",
    "\n",
    "data.loc[:, [\"direccion_normalizada\", \"nombre_cientifico\"]]\n",
    "\n",
    "#Notese que se puede hacer sin el loc como vimos la Notebook anterior"
   ]
  },
  {
   "cell_type": "markdown",
   "id": "organic-lingerie",
   "metadata": {
    "id": "BxoKIDLG_04t"
   },
   "source": [
    "#### Filtrar un DataFrame\n",
    "\n",
    "Para realizar un filtro de determinados valores se debe generar máscara con una operación lógica que devuelva *True* o *False*.\n",
    "\n",
    "Luego se debe usar el método *.loc* con la máscara donde los valores *True* los tomará y los valores *False* los descartará"
   ]
  },
  {
   "cell_type": "code",
   "execution_count": null,
   "id": "civic-faith",
   "metadata": {},
   "outputs": [],
   "source": [
    "data[\"comuna\"]== 1"
   ]
  },
  {
   "cell_type": "code",
   "execution_count": null,
   "id": "hourly-rating",
   "metadata": {
    "id": "infinite-trial"
   },
   "outputs": [],
   "source": [
    "#filtrar Comuna 1\n",
    "print(data[\"comuna\"])\n",
    "mask_comuna1 = data[\"comuna\"]== 1   #ver el doble igual. Como es un número no requiere las comillas\n",
    "mask_comuna1"
   ]
  },
  {
   "cell_type": "code",
   "execution_count": null,
   "id": "corrected-neutral",
   "metadata": {
    "id": "alleged-stick"
   },
   "outputs": [],
   "source": [
    "#solo devuelvo los valores True (evalua por índice)\n",
    "data.loc[mask_comuna1]"
   ]
  },
  {
   "cell_type": "code",
   "execution_count": null,
   "id": "acting-mediterranean",
   "metadata": {
    "id": "complex-surgeon"
   },
   "outputs": [],
   "source": [
    "#por default sin el .loc selecciona filas True\n",
    "\n",
    "data[mask_comuna1]"
   ]
  },
  {
   "cell_type": "code",
   "execution_count": null,
   "id": "alert-coating",
   "metadata": {
    "id": "collaborative-lotus"
   },
   "outputs": [],
   "source": [
    "# loc[filas (True), columnas]\n",
    "\n",
    "data.loc[mask_comuna1,\"nombre_cientifico\"]"
   ]
  },
  {
   "cell_type": "code",
   "execution_count": null,
   "id": "controversial-apparel",
   "metadata": {
    "id": "committed-thesaurus"
   },
   "outputs": [],
   "source": [
    "#error sin el loc\n",
    "\n",
    "data[mask_comuna1,\"nombre_cientifico\"]"
   ]
  },
  {
   "cell_type": "code",
   "execution_count": null,
   "id": "nominated-drill",
   "metadata": {
    "id": "vietnamese-bosnia"
   },
   "outputs": [],
   "source": [
    "#error con iloc\n",
    "\n",
    "data.iloc[mask_comuna1]"
   ]
  },
  {
   "cell_type": "code",
   "execution_count": null,
   "id": "searching-signature",
   "metadata": {
    "id": "sticky-demand"
   },
   "outputs": [],
   "source": [
    "# Crear un nuevo Dataframe filtrado la comuna 1\n",
    "\n",
    "data_comuna1 = data.loc[mask_comuna1]\n"
   ]
  },
  {
   "cell_type": "code",
   "execution_count": null,
   "id": "desperate-fusion",
   "metadata": {},
   "outputs": [],
   "source": [
    "data_comuna1"
   ]
  },
  {
   "cell_type": "code",
   "execution_count": null,
   "id": "outdoor-frame",
   "metadata": {
    "id": "desperate-gazette"
   },
   "outputs": [],
   "source": [
    "# Realizar operaciones matemáticas sobre el DataFrame filtrado. ¿Cuántos abroles hay en la comuna 1?\n",
    "\n",
    "data_comuna1[\"nro_registro\"].count()"
   ]
  },
  {
   "cell_type": "code",
   "execution_count": null,
   "id": "stock-boards",
   "metadata": {
    "id": "conditional-waters"
   },
   "outputs": [],
   "source": [
    "# ¿Cuánto es el promedio de altura de los árboles de la comuna 1?\n",
    "\n",
    "data_comuna1[\"altura_arbol\"].mean()"
   ]
  },
  {
   "cell_type": "markdown",
   "id": "closed-counter",
   "metadata": {},
   "source": [
    "De la misma manera podemos filtrar los Àrboles que están en la calle Arroyo"
   ]
  },
  {
   "cell_type": "code",
   "execution_count": null,
   "id": "outside-relief",
   "metadata": {
    "id": "searching-influence"
   },
   "outputs": [],
   "source": [
    "# ¿Qué árboles hay sobre la calle Arroyo?. Se puede hacer la máscara en la misma fila que el loc, en este caso de \"calle_nombre\"\n",
    "\n",
    "data.loc[(data[\"calle_nombre\"]==\"Arroyo\"), \"nombre_cientifico\"]\n",
    "\n",
    "#ver que es sensible a mayusculas y minusculas"
   ]
  },
  {
   "cell_type": "code",
   "execution_count": null,
   "id": "verified-portuguese",
   "metadata": {
    "id": "bearing-young"
   },
   "outputs": [],
   "source": [
    "# ¿Cuántos árboles hay en la calle Arroyo?\n",
    "\n",
    "data.loc[(data[\"calle_nombre\"]==\"Arroyo\"), \"nro_registro\"].count()"
   ]
  },
  {
   "cell_type": "markdown",
   "id": "dimensional-kennedy",
   "metadata": {},
   "source": [
    "Admás es posible realizar un filtro de un registro particular, en este caso la el árbol que queda en la dirección \"ARROYO 848\""
   ]
  },
  {
   "cell_type": "code",
   "execution_count": null,
   "id": "valuable-strengthening",
   "metadata": {
    "id": "understood-checklist"
   },
   "outputs": [],
   "source": [
    "#Definición de operación lógica con ==\n",
    "\n",
    "mask_arroyo = data[\"direccion_normalizada\"]== \"ARROYO 848\"\n",
    "mask_arroyo\n",
    "\n",
    "data[\"direccion_normalizada\"]== \"ARROYO 848\""
   ]
  },
  {
   "cell_type": "code",
   "execution_count": null,
   "id": "rapid-clone",
   "metadata": {
    "id": "integral-methodology"
   },
   "outputs": [],
   "source": [
    "# data[mask_arroyo]\n",
    "data.loc[mask_arroyo, \"direccion_normalizada\"]\n"
   ]
  },
  {
   "cell_type": "code",
   "execution_count": null,
   "id": "tribal-northern",
   "metadata": {},
   "outputs": [],
   "source": [
    "# ¿Qué tipo de árbol hay en Arroyo 848?\n",
    "\n",
    "data.loc[mask_arroyo, \"nombre_cientifico\"]"
   ]
  },
  {
   "cell_type": "markdown",
   "id": "possible-parameter",
   "metadata": {},
   "source": [
    "También es posible utilizar más de una condición\n",
    "\n",
    "Podemos utilizar *&* (y) en el caso que sea necesario que se cumplan todas las condiciones y *|* (o) en el caso de que se tenga que cumplir por lo menos una."
   ]
  },
  {
   "cell_type": "code",
   "execution_count": null,
   "id": "mysterious-robert",
   "metadata": {},
   "outputs": [],
   "source": [
    "# Àrboles de nombre_cientifico Fraxinus pennsylvanica en la calle Arroyo\n",
    "\n",
    "mask_fraxinus_arroyo = (data[\"calle_nombre\"]==\"Arroyo\") & (data[\"nombre_cientifico\"]==\"Fraxinus pennsylvanica\") "
   ]
  },
  {
   "cell_type": "code",
   "execution_count": null,
   "id": "organizational-portal",
   "metadata": {},
   "outputs": [],
   "source": [
    "# Podemos obviar el .loc \n",
    "\n",
    "data[mask_fraxinus_arroyo].head()"
   ]
  },
  {
   "cell_type": "code",
   "execution_count": null,
   "id": "minor-wyoming",
   "metadata": {},
   "outputs": [],
   "source": [
    "# Àrboles que quedan en la calle Arroyo o en la calle Esmeralda (notar el O). Lo hacemos en una sola fila\n",
    "\n",
    "data[(data[\"calle_nombre\"]==\"Arroyo\") | (data[\"calle_nombre\"]==\"Esmeralda\")]"
   ]
  },
  {
   "cell_type": "markdown",
   "id": "instrumental-mechanics",
   "metadata": {
    "id": "dWpAWwxsPJx6"
   },
   "source": [
    "### Desafio 4: Pandas filtros\n",
    "\n",
    "Para este Desafío vamos a utilizar un Dataset de Murales del Gobierno de la Ciudad extraído de https://data.buenosaires.gob.ar/dataset/murales \n",
    "\n",
    "Dado como está armado el archivo es importante aclarar que la separación de valores es por punto y coma a través del parámetro sep: \n",
    "\n",
    "*data=pd.read_csv(\"Murales.csv\", sep=\";\")*\n",
    "\n",
    "\n",
    "1. Hacer un filtro para seleccionar solo los murales realizados en el año 1939\n",
    "\n",
    "2. Hacer un filtro para seleccionar solo los murales que Luis Seoane. ¿Cuántos murales realizó? ¿Cuál fue el primero?¿Y el úlitmo?\n",
    "\n",
    "3. Hacer un filtro para seleccionar los murales que NO son realizados con la Técnica \"MURAL CERAMICO\" \n",
    "\n",
    "4. Generar un dataset filtrando los Murales realizados con la Técnica \"OLEO SOBRE SOPORTE RIGIDO\"\n",
    "\n",
    "5. Filtrar el DataFrame seleccionando los Murales realizados por el artista que más Murales realizó"
   ]
  }
 ],
 "metadata": {
  "colab": {
   "collapsed_sections": [],
   "name": "Pandas: Filtrar y agrupar.ipynb",
   "provenance": []
  },
  "kernelspec": {
   "display_name": "Python 3",
   "language": "python",
   "name": "python3"
  },
  "language_info": {
   "codemirror_mode": {
    "name": "ipython",
    "version": 3
   },
   "file_extension": ".py",
   "mimetype": "text/x-python",
   "name": "python",
   "nbconvert_exporter": "python",
   "pygments_lexer": "ipython3",
   "version": "3.7.10"
  }
 },
 "nbformat": 4,
 "nbformat_minor": 5
}
